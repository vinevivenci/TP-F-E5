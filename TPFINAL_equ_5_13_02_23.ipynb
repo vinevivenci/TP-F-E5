{
 "cells": [
  {
   "cell_type": "markdown",
   "id": "ToQqTgt4QByu",
   "metadata": {
    "id": "ToQqTgt4QByu"
   },
   "source": [
    "# INSTALACION E IMPORTACION DE LIBRERIAS"
   ]
  },
  {
   "cell_type": "code",
   "execution_count": 1,
   "id": "da0baaad",
   "metadata": {
    "colab": {
     "base_uri": "https://localhost:8080/"
    },
    "id": "da0baaad",
    "outputId": "b65dfce2-39c7-4645-89f8-4c6964ae1e9e"
   },
   "outputs": [
    {
     "name": "stdout",
     "output_type": "stream",
     "text": [
      "Requirement already satisfied: lxml in c:\\users\\jlduv\\anaconda3\\lib\\site-packages (4.8.0)\n"
     ]
    }
   ],
   "source": [
    "#INSTALACION DE LIBRERIA_\n",
    "!pip install lxml"
   ]
  },
  {
   "cell_type": "code",
   "execution_count": 2,
   "id": "36da365f",
   "metadata": {
    "colab": {
     "base_uri": "https://localhost:8080/"
    },
    "id": "36da365f",
    "outputId": "e86cd144-482e-462d-d8f7-2bc59a443716"
   },
   "outputs": [
    {
     "name": "stdout",
     "output_type": "stream",
     "text": [
      "Requirement already satisfied: BeautifulSoup4 in c:\\users\\jlduv\\anaconda3\\lib\\site-packages (4.11.1)\n",
      "Requirement already satisfied: soupsieve>1.2 in c:\\users\\jlduv\\anaconda3\\lib\\site-packages (from BeautifulSoup4) (2.3.1)\n"
     ]
    }
   ],
   "source": [
    "#INSTALACION DE LIBRERIA_\n",
    "!pip install BeautifulSoup4"
   ]
  },
  {
   "cell_type": "code",
   "execution_count": 3,
   "id": "4b331cf9",
   "metadata": {
    "colab": {
     "base_uri": "https://localhost:8080/"
    },
    "id": "4b331cf9",
    "outputId": "2ecba404-bda1-4574-a612-fb75b07db842"
   },
   "outputs": [
    {
     "name": "stdout",
     "output_type": "stream",
     "text": [
      "Requirement already satisfied: requests in c:\\users\\jlduv\\anaconda3\\lib\\site-packages (2.27.1)\n",
      "Requirement already satisfied: charset-normalizer~=2.0.0 in c:\\users\\jlduv\\anaconda3\\lib\\site-packages (from requests) (2.0.4)\n",
      "Requirement already satisfied: urllib3<1.27,>=1.21.1 in c:\\users\\jlduv\\anaconda3\\lib\\site-packages (from requests) (1.26.9)\n",
      "Requirement already satisfied: certifi>=2017.4.17 in c:\\users\\jlduv\\anaconda3\\lib\\site-packages (from requests) (2021.10.8)\n",
      "Requirement already satisfied: idna<4,>=2.5 in c:\\users\\jlduv\\anaconda3\\lib\\site-packages (from requests) (3.3)\n"
     ]
    }
   ],
   "source": [
    "#INSTALACION DE LIBRERIA_\n",
    "!pip install requests"
   ]
  },
  {
   "cell_type": "code",
   "execution_count": 4,
   "id": "473bf823",
   "metadata": {
    "colab": {
     "base_uri": "https://localhost:8080/"
    },
    "id": "473bf823",
    "outputId": "9f1454a6-5e2b-42f1-c6a6-30ef62399a06"
   },
   "outputs": [
    {
     "name": "stdout",
     "output_type": "stream",
     "text": [
      "Requirement already satisfied: nltk in c:\\users\\jlduv\\anaconda3\\lib\\site-packages (3.7)\n",
      "Requirement already satisfied: regex>=2021.8.3 in c:\\users\\jlduv\\anaconda3\\lib\\site-packages (from nltk) (2022.3.15)\n",
      "Requirement already satisfied: click in c:\\users\\jlduv\\anaconda3\\lib\\site-packages (from nltk) (8.0.4)\n",
      "Requirement already satisfied: joblib in c:\\users\\jlduv\\anaconda3\\lib\\site-packages (from nltk) (1.1.0)\n",
      "Requirement already satisfied: tqdm in c:\\users\\jlduv\\anaconda3\\lib\\site-packages (from nltk) (4.64.0)\n",
      "Requirement already satisfied: colorama in c:\\users\\jlduv\\anaconda3\\lib\\site-packages (from click->nltk) (0.4.4)\n"
     ]
    }
   ],
   "source": [
    "#INSTALACION DE LIBRERIA_\n",
    "!pip install nltk\n"
   ]
  },
  {
   "cell_type": "code",
   "execution_count": 5,
   "id": "78713e4d",
   "metadata": {
    "colab": {
     "base_uri": "https://localhost:8080/"
    },
    "id": "78713e4d",
    "outputId": "f3f913ee-e2e3-4e66-ca05-1343fecc90da"
   },
   "outputs": [
    {
     "name": "stdout",
     "output_type": "stream",
     "text": [
      "Requirement already satisfied: spacy in c:\\users\\jlduv\\anaconda3\\lib\\site-packages (3.1.6)\n",
      "Requirement already satisfied: catalogue<2.1.0,>=2.0.6 in c:\\users\\jlduv\\anaconda3\\lib\\site-packages (from spacy) (2.0.8)\n",
      "Requirement already satisfied: preshed<3.1.0,>=3.0.2 in c:\\users\\jlduv\\anaconda3\\lib\\site-packages (from spacy) (3.0.8)\n",
      "Requirement already satisfied: thinc<8.1.0,>=8.0.12 in c:\\users\\jlduv\\anaconda3\\lib\\site-packages (from spacy) (8.0.17)\n",
      "Requirement already satisfied: typer<0.5.0,>=0.3.0 in c:\\users\\jlduv\\anaconda3\\lib\\site-packages (from spacy) (0.4.2)\n",
      "Requirement already satisfied: spacy-legacy<3.1.0,>=3.0.8 in c:\\users\\jlduv\\anaconda3\\lib\\site-packages (from spacy) (3.0.10)\n",
      "Requirement already satisfied: srsly<3.0.0,>=2.4.1 in c:\\users\\jlduv\\anaconda3\\lib\\site-packages (from spacy) (2.4.4)\n",
      "Requirement already satisfied: jinja2 in c:\\users\\jlduv\\anaconda3\\lib\\site-packages (from spacy) (2.11.3)\n",
      "Requirement already satisfied: pydantic!=1.8,!=1.8.1,<1.9.0,>=1.7.4 in c:\\users\\jlduv\\anaconda3\\lib\\site-packages (from spacy) (1.8.2)\n",
      "Requirement already satisfied: murmurhash<1.1.0,>=0.28.0 in c:\\users\\jlduv\\anaconda3\\lib\\site-packages (from spacy) (1.0.9)\n",
      "Requirement already satisfied: wasabi<1.1.0,>=0.8.1 in c:\\users\\jlduv\\anaconda3\\lib\\site-packages (from spacy) (0.10.1)\n",
      "Requirement already satisfied: pathy>=0.3.5 in c:\\users\\jlduv\\anaconda3\\lib\\site-packages (from spacy) (0.6.2)\n",
      "Requirement already satisfied: cymem<2.1.0,>=2.0.2 in c:\\users\\jlduv\\anaconda3\\lib\\site-packages (from spacy) (2.0.7)\n",
      "Requirement already satisfied: click<8.1.0 in c:\\users\\jlduv\\anaconda3\\lib\\site-packages (from spacy) (8.0.4)\n",
      "Requirement already satisfied: blis<0.8.0,>=0.4.0 in c:\\users\\jlduv\\anaconda3\\lib\\site-packages (from spacy) (0.7.9)\n",
      "Requirement already satisfied: requests<3.0.0,>=2.13.0 in c:\\users\\jlduv\\anaconda3\\lib\\site-packages (from spacy) (2.27.1)\n",
      "Requirement already satisfied: setuptools in c:\\users\\jlduv\\anaconda3\\lib\\site-packages (from spacy) (61.2.0)\n",
      "Requirement already satisfied: packaging>=20.0 in c:\\users\\jlduv\\anaconda3\\lib\\site-packages (from spacy) (21.3)\n",
      "Requirement already satisfied: numpy>=1.15.0 in c:\\users\\jlduv\\anaconda3\\lib\\site-packages (from spacy) (1.21.5)\n",
      "Requirement already satisfied: tqdm<5.0.0,>=4.38.0 in c:\\users\\jlduv\\anaconda3\\lib\\site-packages (from spacy) (4.64.0)\n",
      "Requirement already satisfied: colorama in c:\\users\\jlduv\\anaconda3\\lib\\site-packages (from click<8.1.0->spacy) (0.4.4)\n",
      "Requirement already satisfied: pyparsing!=3.0.5,>=2.0.2 in c:\\users\\jlduv\\anaconda3\\lib\\site-packages (from packaging>=20.0->spacy) (3.0.4)\n",
      "Requirement already satisfied: smart-open<6.0.0,>=5.2.1 in c:\\users\\jlduv\\anaconda3\\lib\\site-packages (from pathy>=0.3.5->spacy) (5.2.1)\n",
      "Requirement already satisfied: typing-extensions>=3.7.4.3 in c:\\users\\jlduv\\anaconda3\\lib\\site-packages (from pydantic!=1.8,!=1.8.1,<1.9.0,>=1.7.4->spacy) (4.1.1)\n",
      "Requirement already satisfied: charset-normalizer~=2.0.0 in c:\\users\\jlduv\\anaconda3\\lib\\site-packages (from requests<3.0.0,>=2.13.0->spacy) (2.0.4)\n",
      "Requirement already satisfied: urllib3<1.27,>=1.21.1 in c:\\users\\jlduv\\anaconda3\\lib\\site-packages (from requests<3.0.0,>=2.13.0->spacy) (1.26.9)\n",
      "Requirement already satisfied: idna<4,>=2.5 in c:\\users\\jlduv\\anaconda3\\lib\\site-packages (from requests<3.0.0,>=2.13.0->spacy) (3.3)\n",
      "Requirement already satisfied: certifi>=2017.4.17 in c:\\users\\jlduv\\anaconda3\\lib\\site-packages (from requests<3.0.0,>=2.13.0->spacy) (2021.10.8)\n",
      "Requirement already satisfied: MarkupSafe>=0.23 in c:\\users\\jlduv\\anaconda3\\lib\\site-packages (from jinja2->spacy) (2.0.1)\n"
     ]
    }
   ],
   "source": [
    "#INSTALACION DE LIBRERIA_\n",
    "!pip install spacy"
   ]
  },
  {
   "cell_type": "code",
   "execution_count": 6,
   "id": "3aab6267",
   "metadata": {
    "id": "3aab6267"
   },
   "outputs": [],
   "source": [
    "#importamos librerias\n",
    "\n",
    "import matplotlib.pyplot as plt\n",
    "import numpy as np"
   ]
  },
  {
   "cell_type": "code",
   "execution_count": 7,
   "id": "408943eb",
   "metadata": {
    "id": "408943eb"
   },
   "outputs": [],
   "source": [
    "#importamos librerias\n",
    "import pandas as pd"
   ]
  },
  {
   "cell_type": "code",
   "execution_count": 8,
   "id": "00d07080",
   "metadata": {
    "id": "00d07080"
   },
   "outputs": [],
   "source": [
    "#importamos librerias\n",
    "import re"
   ]
  },
  {
   "cell_type": "code",
   "execution_count": 9,
   "id": "dc0be8c5",
   "metadata": {
    "colab": {
     "base_uri": "https://localhost:8080/"
    },
    "id": "dc0be8c5",
    "outputId": "9644966f-4256-4d88-d022-acc85fd4d6f4"
   },
   "outputs": [],
   "source": [
    "#importamos librerias\n",
    "import spacy"
   ]
  },
  {
   "cell_type": "code",
   "execution_count": 10,
   "id": "b5a5acab",
   "metadata": {
    "id": "b5a5acab"
   },
   "outputs": [],
   "source": [
    "#importamos librerias\n",
    "import nltk"
   ]
  },
  {
   "cell_type": "code",
   "execution_count": 12,
   "id": "ce93485f",
   "metadata": {
    "id": "ce93485f"
   },
   "outputs": [],
   "source": [
    "#importamos librerias\n",
    "import requests\n",
    "from bs4 import BeautifulSoup"
   ]
  },
  {
   "cell_type": "markdown",
   "id": "x89EJpf1QoLY",
   "metadata": {
    "id": "x89EJpf1QoLY"
   },
   "source": [
    "# DATASET A EXPLORAR"
   ]
  },
  {
   "cell_type": "markdown",
   "id": "MArut6TdMs20",
   "metadata": {
    "id": "MArut6TdMs20"
   },
   "source": []
  },
  {
   "cell_type": "code",
   "execution_count": 13,
   "id": "0916917f",
   "metadata": {
    "colab": {
     "base_uri": "https://localhost:8080/",
     "height": 384
    },
    "id": "0916917f",
    "outputId": "c7606301-b6e4-4f23-9ea1-e57442399b74"
   },
   "outputs": [
    {
     "data": {
      "text/html": [
       "<div>\n",
       "<style scoped>\n",
       "    .dataframe tbody tr th:only-of-type {\n",
       "        vertical-align: middle;\n",
       "    }\n",
       "\n",
       "    .dataframe tbody tr th {\n",
       "        vertical-align: top;\n",
       "    }\n",
       "\n",
       "    .dataframe thead th {\n",
       "        text-align: right;\n",
       "    }\n",
       "</style>\n",
       "<table border=\"1\" class=\"dataframe\">\n",
       "  <thead>\n",
       "    <tr style=\"text-align: right;\">\n",
       "      <th></th>\n",
       "      <th>fid</th>\n",
       "      <th>FUNCION_PRINCIPAL</th>\n",
       "      <th>SUBCATEGORIA</th>\n",
       "      <th>ESTABLECIMIENTO</th>\n",
       "      <th>FUNCION_SECUNDARIA</th>\n",
       "      <th>PROGRAMACION</th>\n",
       "      <th>SUCURSAL</th>\n",
       "      <th>SALA</th>\n",
       "      <th>DIRECCION</th>\n",
       "      <th>CALLE</th>\n",
       "      <th>...</th>\n",
       "      <th>TWITTER</th>\n",
       "      <th>INSTAGRAM</th>\n",
       "      <th>CAMARA_1</th>\n",
       "      <th>CAMARA_2</th>\n",
       "      <th>REDES</th>\n",
       "      <th>PUNTO_DE_CULTURA</th>\n",
       "      <th>OTRAS_REDES</th>\n",
       "      <th>CANTIDAD_SALAS</th>\n",
       "      <th>CAPACIDAD_TOTAL</th>\n",
       "      <th>TAG</th>\n",
       "    </tr>\n",
       "  </thead>\n",
       "  <tbody>\n",
       "    <tr>\n",
       "      <th>0</th>\n",
       "      <td>1</td>\n",
       "      <td>BAR</td>\n",
       "      <td>NOTABLE</td>\n",
       "      <td>8 ESQUINAS</td>\n",
       "      <td>NaN</td>\n",
       "      <td>NaN</td>\n",
       "      <td>NaN</td>\n",
       "      <td>NaN</td>\n",
       "      <td>FOREST AV. 1186</td>\n",
       "      <td>FOREST AV.</td>\n",
       "      <td>...</td>\n",
       "      <td>NaN</td>\n",
       "      <td>@8esquinasbar</td>\n",
       "      <td>NaN</td>\n",
       "      <td>NaN</td>\n",
       "      <td>NaN</td>\n",
       "      <td>NaN</td>\n",
       "      <td>NaN</td>\n",
       "      <td>NaN</td>\n",
       "      <td>0.0</td>\n",
       "      <td>NaN</td>\n",
       "    </tr>\n",
       "    <tr>\n",
       "      <th>1</th>\n",
       "      <td>2</td>\n",
       "      <td>ESPACIO DE FORMACION</td>\n",
       "      <td>NaN</td>\n",
       "      <td>ESCUELA METROPOLITANA DE ARTE DRAMATICA</td>\n",
       "      <td>NaN</td>\n",
       "      <td>NaN</td>\n",
       "      <td>FOREST</td>\n",
       "      <td>ANEXO 3</td>\n",
       "      <td>FOREST AV. 933</td>\n",
       "      <td>FOREST AV.</td>\n",
       "      <td>...</td>\n",
       "      <td>NaN</td>\n",
       "      <td>NaN</td>\n",
       "      <td>NaN</td>\n",
       "      <td>NaN</td>\n",
       "      <td>NaN</td>\n",
       "      <td>NaN</td>\n",
       "      <td>NaN</td>\n",
       "      <td>NaN</td>\n",
       "      <td>0.0</td>\n",
       "      <td>NaN</td>\n",
       "    </tr>\n",
       "    <tr>\n",
       "      <th>2</th>\n",
       "      <td>3</td>\n",
       "      <td>ESPACIO ESCENICO</td>\n",
       "      <td>CLUB DE MUSICA EN VIVO</td>\n",
       "      <td>GIER MUSIC</td>\n",
       "      <td>NaN</td>\n",
       "      <td>SI</td>\n",
       "      <td>NaN</td>\n",
       "      <td>NaN</td>\n",
       "      <td>ALVAREZ THOMAS AV. 1078</td>\n",
       "      <td>ALVAREZ THOMAS AV.</td>\n",
       "      <td>...</td>\n",
       "      <td>NaN</td>\n",
       "      <td>https://www.instagram.com/giermusicclub/</td>\n",
       "      <td>NaN</td>\n",
       "      <td>NaN</td>\n",
       "      <td>NaN</td>\n",
       "      <td>NaN</td>\n",
       "      <td>NaN</td>\n",
       "      <td>1.0</td>\n",
       "      <td>265.0</td>\n",
       "      <td>NaN</td>\n",
       "    </tr>\n",
       "    <tr>\n",
       "      <th>3</th>\n",
       "      <td>4</td>\n",
       "      <td>MONUMENTOS Y LUGARES HISTORICOS</td>\n",
       "      <td>NaN</td>\n",
       "      <td>BOVEDA QUE GUARDA LOS RESTOS DE CARLOS GARDEL</td>\n",
       "      <td>NaN</td>\n",
       "      <td>NaN</td>\n",
       "      <td>NaN</td>\n",
       "      <td>NaN</td>\n",
       "      <td>LACROZE. FEDERICO AV. 4099</td>\n",
       "      <td>LACROZE. FEDERICO AV.</td>\n",
       "      <td>...</td>\n",
       "      <td>NaN</td>\n",
       "      <td>NaN</td>\n",
       "      <td>NaN</td>\n",
       "      <td>NaN</td>\n",
       "      <td>NaN</td>\n",
       "      <td>NaN</td>\n",
       "      <td>NaN</td>\n",
       "      <td>NaN</td>\n",
       "      <td>0.0</td>\n",
       "      <td>NaN</td>\n",
       "    </tr>\n",
       "    <tr>\n",
       "      <th>4</th>\n",
       "      <td>5</td>\n",
       "      <td>MONUMENTOS Y LUGARES HISTORICOS</td>\n",
       "      <td>NaN</td>\n",
       "      <td>ARCHIVO HISTORICO DEL CREMATORIO MUNICIPAL</td>\n",
       "      <td>NaN</td>\n",
       "      <td>NaN</td>\n",
       "      <td>NaN</td>\n",
       "      <td>NaN</td>\n",
       "      <td>LACROZE. FEDERICO AV. 4099</td>\n",
       "      <td>LACROZE. FEDERICO AV.</td>\n",
       "      <td>...</td>\n",
       "      <td>NaN</td>\n",
       "      <td>NaN</td>\n",
       "      <td>NaN</td>\n",
       "      <td>NaN</td>\n",
       "      <td>NaN</td>\n",
       "      <td>NaN</td>\n",
       "      <td>NaN</td>\n",
       "      <td>NaN</td>\n",
       "      <td>0.0</td>\n",
       "      <td>NaN</td>\n",
       "    </tr>\n",
       "    <tr>\n",
       "      <th>...</th>\n",
       "      <td>...</td>\n",
       "      <td>...</td>\n",
       "      <td>...</td>\n",
       "      <td>...</td>\n",
       "      <td>...</td>\n",
       "      <td>...</td>\n",
       "      <td>...</td>\n",
       "      <td>...</td>\n",
       "      <td>...</td>\n",
       "      <td>...</td>\n",
       "      <td>...</td>\n",
       "      <td>...</td>\n",
       "      <td>...</td>\n",
       "      <td>...</td>\n",
       "      <td>...</td>\n",
       "      <td>...</td>\n",
       "      <td>...</td>\n",
       "      <td>...</td>\n",
       "      <td>...</td>\n",
       "      <td>...</td>\n",
       "      <td>...</td>\n",
       "    </tr>\n",
       "    <tr>\n",
       "      <th>2963</th>\n",
       "      <td>2985</td>\n",
       "      <td>LIBRERIA</td>\n",
       "      <td>GENERAL</td>\n",
       "      <td>QUARTO QUILO</td>\n",
       "      <td>NaN</td>\n",
       "      <td>NaN</td>\n",
       "      <td>NaN</td>\n",
       "      <td>NaN</td>\n",
       "      <td>ONLINE</td>\n",
       "      <td>ONLINE</td>\n",
       "      <td>...</td>\n",
       "      <td>NaN</td>\n",
       "      <td>https://www.instagram.com/quartoquilo/?hl=es//...</td>\n",
       "      <td>NaN</td>\n",
       "      <td>NaN</td>\n",
       "      <td>NaN</td>\n",
       "      <td>NaN</td>\n",
       "      <td>NaN</td>\n",
       "      <td>0.0</td>\n",
       "      <td>0.0</td>\n",
       "      <td>LITERATURA, CIENCIAS POLITICAS, LITERATURA INF...</td>\n",
       "    </tr>\n",
       "    <tr>\n",
       "      <th>2964</th>\n",
       "      <td>2986</td>\n",
       "      <td>LIBRERIA</td>\n",
       "      <td>GENERAL</td>\n",
       "      <td>QUISOQUITO VIRTUAL</td>\n",
       "      <td>NaN</td>\n",
       "      <td>NaN</td>\n",
       "      <td>NaN</td>\n",
       "      <td>NaN</td>\n",
       "      <td>ONLINE</td>\n",
       "      <td>ONLINE</td>\n",
       "      <td>...</td>\n",
       "      <td>NaN</td>\n",
       "      <td>https://www.instagram.com/quiosquitovirtual/?f...</td>\n",
       "      <td>NaN</td>\n",
       "      <td>NaN</td>\n",
       "      <td>NaN</td>\n",
       "      <td>NaN</td>\n",
       "      <td>NaN</td>\n",
       "      <td>0.0</td>\n",
       "      <td>0.0</td>\n",
       "      <td>LITERATURA, CIENCIAS POLITICAS, LITERATURA INF...</td>\n",
       "    </tr>\n",
       "    <tr>\n",
       "      <th>2965</th>\n",
       "      <td>2987</td>\n",
       "      <td>LIBRERIA</td>\n",
       "      <td>GENERAL</td>\n",
       "      <td>RINCON BEAUCHEF</td>\n",
       "      <td>NaN</td>\n",
       "      <td>NaN</td>\n",
       "      <td>NaN</td>\n",
       "      <td>NaN</td>\n",
       "      <td>ONLINE</td>\n",
       "      <td>ONLINE</td>\n",
       "      <td>...</td>\n",
       "      <td>NaN</td>\n",
       "      <td>https://www.instagram.com/rinconbeauchef/</td>\n",
       "      <td>NaN</td>\n",
       "      <td>NaN</td>\n",
       "      <td>NaN</td>\n",
       "      <td>NaN</td>\n",
       "      <td>NaN</td>\n",
       "      <td>0.0</td>\n",
       "      <td>0.0</td>\n",
       "      <td>LITERATURA, CIENCIAS POLITICAS, LITERATURA INF...</td>\n",
       "    </tr>\n",
       "    <tr>\n",
       "      <th>2966</th>\n",
       "      <td>2988</td>\n",
       "      <td>LIBRERIA</td>\n",
       "      <td>GENERAL</td>\n",
       "      <td>SEGUI LEYENDO</td>\n",
       "      <td>NaN</td>\n",
       "      <td>NaN</td>\n",
       "      <td>NaN</td>\n",
       "      <td>NaN</td>\n",
       "      <td>ONLINE</td>\n",
       "      <td>ONLINE</td>\n",
       "      <td>...</td>\n",
       "      <td>NaN</td>\n",
       "      <td>https://www.instagram.com/seguileyendo/ https:...</td>\n",
       "      <td>NaN</td>\n",
       "      <td>NaN</td>\n",
       "      <td>NaN</td>\n",
       "      <td>NaN</td>\n",
       "      <td>NaN</td>\n",
       "      <td>0.0</td>\n",
       "      <td>0.0</td>\n",
       "      <td>LITERATURA, CIENCIAS POLITICAS, LITERATURA INF...</td>\n",
       "    </tr>\n",
       "    <tr>\n",
       "      <th>2967</th>\n",
       "      <td>2989</td>\n",
       "      <td>LIBRERIA</td>\n",
       "      <td>GENERAL</td>\n",
       "      <td>WAYRA</td>\n",
       "      <td>NaN</td>\n",
       "      <td>NaN</td>\n",
       "      <td>NaN</td>\n",
       "      <td>NaN</td>\n",
       "      <td>ONLINE</td>\n",
       "      <td>ONLINE</td>\n",
       "      <td>...</td>\n",
       "      <td>NaN</td>\n",
       "      <td>https://www.instagram.com/wayralibros/?hl=es-la</td>\n",
       "      <td>NaN</td>\n",
       "      <td>NaN</td>\n",
       "      <td>NaN</td>\n",
       "      <td>NaN</td>\n",
       "      <td>NaN</td>\n",
       "      <td>0.0</td>\n",
       "      <td>0.0</td>\n",
       "      <td>LITERATURA, CIENCIAS POLITICAS, LITERATURA INF...</td>\n",
       "    </tr>\n",
       "  </tbody>\n",
       "</table>\n",
       "<p>2968 rows × 29 columns</p>\n",
       "</div>"
      ],
      "text/plain": [
       "       fid                FUNCION_PRINCIPAL            SUBCATEGORIA  \\\n",
       "0        1                              BAR                 NOTABLE   \n",
       "1        2             ESPACIO DE FORMACION                     NaN   \n",
       "2        3                 ESPACIO ESCENICO  CLUB DE MUSICA EN VIVO   \n",
       "3        4  MONUMENTOS Y LUGARES HISTORICOS                     NaN   \n",
       "4        5  MONUMENTOS Y LUGARES HISTORICOS                     NaN   \n",
       "...    ...                              ...                     ...   \n",
       "2963  2985                         LIBRERIA                 GENERAL   \n",
       "2964  2986                         LIBRERIA                 GENERAL   \n",
       "2965  2987                         LIBRERIA                 GENERAL   \n",
       "2966  2988                         LIBRERIA                 GENERAL   \n",
       "2967  2989                         LIBRERIA                 GENERAL   \n",
       "\n",
       "                                    ESTABLECIMIENTO FUNCION_SECUNDARIA  \\\n",
       "0                                        8 ESQUINAS                NaN   \n",
       "1           ESCUELA METROPOLITANA DE ARTE DRAMATICA                NaN   \n",
       "2                                        GIER MUSIC                NaN   \n",
       "3     BOVEDA QUE GUARDA LOS RESTOS DE CARLOS GARDEL                NaN   \n",
       "4        ARCHIVO HISTORICO DEL CREMATORIO MUNICIPAL                NaN   \n",
       "...                                             ...                ...   \n",
       "2963                                   QUARTO QUILO                NaN   \n",
       "2964                             QUISOQUITO VIRTUAL                NaN   \n",
       "2965                                RINCON BEAUCHEF                NaN   \n",
       "2966                                  SEGUI LEYENDO                NaN   \n",
       "2967                                          WAYRA                NaN   \n",
       "\n",
       "     PROGRAMACION SUCURSAL     SALA                   DIRECCION  \\\n",
       "0             NaN      NaN      NaN             FOREST AV. 1186   \n",
       "1             NaN   FOREST  ANEXO 3              FOREST AV. 933   \n",
       "2              SI      NaN      NaN     ALVAREZ THOMAS AV. 1078   \n",
       "3             NaN      NaN      NaN  LACROZE. FEDERICO AV. 4099   \n",
       "4             NaN      NaN      NaN  LACROZE. FEDERICO AV. 4099   \n",
       "...           ...      ...      ...                         ...   \n",
       "2963          NaN      NaN      NaN                      ONLINE   \n",
       "2964          NaN      NaN      NaN                      ONLINE   \n",
       "2965          NaN      NaN      NaN                      ONLINE   \n",
       "2966          NaN      NaN      NaN                      ONLINE   \n",
       "2967          NaN      NaN      NaN                      ONLINE   \n",
       "\n",
       "                      CALLE  ...  TWITTER  \\\n",
       "0                FOREST AV.  ...      NaN   \n",
       "1                FOREST AV.  ...      NaN   \n",
       "2        ALVAREZ THOMAS AV.  ...      NaN   \n",
       "3     LACROZE. FEDERICO AV.  ...      NaN   \n",
       "4     LACROZE. FEDERICO AV.  ...      NaN   \n",
       "...                     ...  ...      ...   \n",
       "2963                 ONLINE  ...      NaN   \n",
       "2964                 ONLINE  ...      NaN   \n",
       "2965                 ONLINE  ...      NaN   \n",
       "2966                 ONLINE  ...      NaN   \n",
       "2967                 ONLINE  ...      NaN   \n",
       "\n",
       "                                              INSTAGRAM CAMARA_1  CAMARA_2  \\\n",
       "0                                         @8esquinasbar      NaN       NaN   \n",
       "1                                                   NaN      NaN       NaN   \n",
       "2              https://www.instagram.com/giermusicclub/      NaN       NaN   \n",
       "3                                                   NaN      NaN       NaN   \n",
       "4                                                   NaN      NaN       NaN   \n",
       "...                                                 ...      ...       ...   \n",
       "2963  https://www.instagram.com/quartoquilo/?hl=es//...      NaN       NaN   \n",
       "2964  https://www.instagram.com/quiosquitovirtual/?f...      NaN       NaN   \n",
       "2965          https://www.instagram.com/rinconbeauchef/      NaN       NaN   \n",
       "2966  https://www.instagram.com/seguileyendo/ https:...      NaN       NaN   \n",
       "2967    https://www.instagram.com/wayralibros/?hl=es-la      NaN       NaN   \n",
       "\n",
       "      REDES PUNTO_DE_CULTURA OTRAS_REDES CANTIDAD_SALAS CAPACIDAD_TOTAL  \\\n",
       "0       NaN              NaN         NaN            NaN             0.0   \n",
       "1       NaN              NaN         NaN            NaN             0.0   \n",
       "2       NaN              NaN         NaN            1.0           265.0   \n",
       "3       NaN              NaN         NaN            NaN             0.0   \n",
       "4       NaN              NaN         NaN            NaN             0.0   \n",
       "...     ...              ...         ...            ...             ...   \n",
       "2963    NaN              NaN         NaN            0.0             0.0   \n",
       "2964    NaN              NaN         NaN            0.0             0.0   \n",
       "2965    NaN              NaN         NaN            0.0             0.0   \n",
       "2966    NaN              NaN         NaN            0.0             0.0   \n",
       "2967    NaN              NaN         NaN            0.0             0.0   \n",
       "\n",
       "                                                    TAG  \n",
       "0                                                   NaN  \n",
       "1                                                   NaN  \n",
       "2                                                   NaN  \n",
       "3                                                   NaN  \n",
       "4                                                   NaN  \n",
       "...                                                 ...  \n",
       "2963  LITERATURA, CIENCIAS POLITICAS, LITERATURA INF...  \n",
       "2964  LITERATURA, CIENCIAS POLITICAS, LITERATURA INF...  \n",
       "2965  LITERATURA, CIENCIAS POLITICAS, LITERATURA INF...  \n",
       "2966  LITERATURA, CIENCIAS POLITICAS, LITERATURA INF...  \n",
       "2967  LITERATURA, CIENCIAS POLITICAS, LITERATURA INF...  \n",
       "\n",
       "[2968 rows x 29 columns]"
      ]
     },
     "execution_count": 13,
     "metadata": {},
     "output_type": "execute_result"
    }
   ],
   "source": [
    "#ingreso de cvs \"“espacios-culturales.csv”\"\n",
    "#LINK--> https://data.buenosaires.gob.ar/dataset/espacios-culturales\n",
    "\n",
    "pd.read_csv('espacios-culturales.csv')\n"
   ]
  },
  {
   "cell_type": "markdown",
   "id": "RV_7gS3oRme3",
   "metadata": {
    "id": "RV_7gS3oRme3"
   },
   "source": [
    "CARACTERISTICAS Y GRAFICOS"
   ]
  },
  {
   "cell_type": "code",
   "execution_count": 40,
   "id": "cd19baac",
   "metadata": {
    "colab": {
     "base_uri": "https://localhost:8080/"
    },
    "id": "cd19baac",
    "outputId": "1eb3e1f7-57c6-450e-81db-8f8b6f8a010b"
   },
   "outputs": [
    {
     "data": {
      "text/plain": [
       "pandas.core.frame.DataFrame"
      ]
     },
     "execution_count": 40,
     "metadata": {},
     "output_type": "execute_result"
    }
   ],
   "source": [
    "#Ahora, vemos el tipo de archivo csv\n",
    "df = pd.read_csv('espacios-culturales.csv')\n",
    "type(df)"
   ]
  },
  {
   "cell_type": "code",
   "execution_count": 41,
   "id": "478a028a",
   "metadata": {},
   "outputs": [
    {
     "data": {
      "text/html": [
       "<div>\n",
       "<style scoped>\n",
       "    .dataframe tbody tr th:only-of-type {\n",
       "        vertical-align: middle;\n",
       "    }\n",
       "\n",
       "    .dataframe tbody tr th {\n",
       "        vertical-align: top;\n",
       "    }\n",
       "\n",
       "    .dataframe thead th {\n",
       "        text-align: right;\n",
       "    }\n",
       "</style>\n",
       "<table border=\"1\" class=\"dataframe\">\n",
       "  <thead>\n",
       "    <tr style=\"text-align: right;\">\n",
       "      <th></th>\n",
       "      <th>fid</th>\n",
       "      <th>FUNCION_PRINCIPAL</th>\n",
       "      <th>SUBCATEGORIA</th>\n",
       "      <th>ESTABLECIMIENTO</th>\n",
       "      <th>FUNCION_SECUNDARIA</th>\n",
       "      <th>PROGRAMACION</th>\n",
       "      <th>SUCURSAL</th>\n",
       "      <th>SALA</th>\n",
       "      <th>DIRECCION</th>\n",
       "      <th>CALLE</th>\n",
       "      <th>...</th>\n",
       "      <th>TWITTER</th>\n",
       "      <th>INSTAGRAM</th>\n",
       "      <th>CAMARA_1</th>\n",
       "      <th>CAMARA_2</th>\n",
       "      <th>REDES</th>\n",
       "      <th>PUNTO_DE_CULTURA</th>\n",
       "      <th>OTRAS_REDES</th>\n",
       "      <th>CANTIDAD_SALAS</th>\n",
       "      <th>CAPACIDAD_TOTAL</th>\n",
       "      <th>TAG</th>\n",
       "    </tr>\n",
       "  </thead>\n",
       "  <tbody>\n",
       "  </tbody>\n",
       "</table>\n",
       "<p>0 rows × 29 columns</p>\n",
       "</div>"
      ],
      "text/plain": [
       "Empty DataFrame\n",
       "Columns: [fid, FUNCION_PRINCIPAL, SUBCATEGORIA, ESTABLECIMIENTO, FUNCION_SECUNDARIA, PROGRAMACION, SUCURSAL, SALA, DIRECCION, CALLE, ALTURA, BARRIO, COMUNA, LATITUD, LONGITUD, TELEFONO, MAIL, WEB, FACEBOOK, TWITTER, INSTAGRAM, CAMARA_1, CAMARA_2, REDES, PUNTO_DE_CULTURA, OTRAS_REDES, CANTIDAD_SALAS, CAPACIDAD_TOTAL, TAG]\n",
       "Index: []\n",
       "\n",
       "[0 rows x 29 columns]"
      ]
     },
     "execution_count": 41,
     "metadata": {},
     "output_type": "execute_result"
    }
   ],
   "source": [
    "#Vemos solo los títulos de las columnas\n",
    "df.head(0)"
   ]
  },
  {
   "cell_type": "code",
   "execution_count": 46,
   "id": "1457bd82",
   "metadata": {},
   "outputs": [
    {
     "name": "stdout",
     "output_type": "stream",
     "text": [
      "Cantidad de filas 2968\n",
      "\n",
      "Cantidad de columnas 29\n"
     ]
    }
   ],
   "source": [
    "#Cantidad de Filas\n",
    "print(f'Cantidad de filas {df.shape[0]}\\n')\n",
    "\n",
    "#Cantidad de columnas\n",
    "print(f'Cantidad de columnas {df.shape[1]}')"
   ]
  },
  {
   "cell_type": "code",
   "execution_count": 47,
   "id": "27111390",
   "metadata": {
    "id": "27111390"
   },
   "outputs": [],
   "source": [
    "#Limpiamos el archivo dejando las columnas principales\n",
    "df.drop(['fid','FUNCION_SECUNDARIA','SALA','PROGRAMACION', 'CALLE', 'ALTURA','TWITTER','INSTAGRAM','CAMARA_1','CAMARA_2','REDES','PUNTO_DE_CULTURA','OTRAS_REDES','LATITUD','LONGITUD','TELEFONO','MAIL','WEB','FACEBOOK','CANTIDAD_SALAS','TAG'], axis=1, inplace=True)\n",
    "\n"
   ]
  },
  {
   "cell_type": "code",
   "execution_count": 31,
   "id": "d9afd997",
   "metadata": {
    "colab": {
     "base_uri": "https://localhost:8080/"
    },
    "id": "d9afd997",
    "outputId": "eef24e19-5514-49b3-ea43-47edbc670bf2"
   },
   "outputs": [
    {
     "data": {
      "text/html": [
       "<div>\n",
       "<style scoped>\n",
       "    .dataframe tbody tr th:only-of-type {\n",
       "        vertical-align: middle;\n",
       "    }\n",
       "\n",
       "    .dataframe tbody tr th {\n",
       "        vertical-align: top;\n",
       "    }\n",
       "\n",
       "    .dataframe thead th {\n",
       "        text-align: right;\n",
       "    }\n",
       "</style>\n",
       "<table border=\"1\" class=\"dataframe\">\n",
       "  <thead>\n",
       "    <tr style=\"text-align: right;\">\n",
       "      <th></th>\n",
       "      <th>fid</th>\n",
       "      <th>FUNCION_PRINCIPAL</th>\n",
       "      <th>SUBCATEGORIA</th>\n",
       "      <th>ESTABLECIMIENTO</th>\n",
       "      <th>FUNCION_SECUNDARIA</th>\n",
       "      <th>PROGRAMACION</th>\n",
       "      <th>SUCURSAL</th>\n",
       "      <th>SALA</th>\n",
       "      <th>DIRECCION</th>\n",
       "      <th>CALLE</th>\n",
       "      <th>...</th>\n",
       "      <th>TWITTER</th>\n",
       "      <th>INSTAGRAM</th>\n",
       "      <th>CAMARA_1</th>\n",
       "      <th>CAMARA_2</th>\n",
       "      <th>REDES</th>\n",
       "      <th>PUNTO_DE_CULTURA</th>\n",
       "      <th>OTRAS_REDES</th>\n",
       "      <th>CANTIDAD_SALAS</th>\n",
       "      <th>CAPACIDAD_TOTAL</th>\n",
       "      <th>TAG</th>\n",
       "    </tr>\n",
       "  </thead>\n",
       "  <tbody>\n",
       "    <tr>\n",
       "      <th>0</th>\n",
       "      <td>1</td>\n",
       "      <td>BAR</td>\n",
       "      <td>NOTABLE</td>\n",
       "      <td>8 ESQUINAS</td>\n",
       "      <td>NaN</td>\n",
       "      <td>NaN</td>\n",
       "      <td>NaN</td>\n",
       "      <td>NaN</td>\n",
       "      <td>FOREST AV. 1186</td>\n",
       "      <td>FOREST AV.</td>\n",
       "      <td>...</td>\n",
       "      <td>NaN</td>\n",
       "      <td>@8esquinasbar</td>\n",
       "      <td>NaN</td>\n",
       "      <td>NaN</td>\n",
       "      <td>NaN</td>\n",
       "      <td>NaN</td>\n",
       "      <td>NaN</td>\n",
       "      <td>NaN</td>\n",
       "      <td>0.0</td>\n",
       "      <td>NaN</td>\n",
       "    </tr>\n",
       "    <tr>\n",
       "      <th>1</th>\n",
       "      <td>2</td>\n",
       "      <td>ESPACIO DE FORMACION</td>\n",
       "      <td>NaN</td>\n",
       "      <td>ESCUELA METROPOLITANA DE ARTE DRAMATICA</td>\n",
       "      <td>NaN</td>\n",
       "      <td>NaN</td>\n",
       "      <td>FOREST</td>\n",
       "      <td>ANEXO 3</td>\n",
       "      <td>FOREST AV. 933</td>\n",
       "      <td>FOREST AV.</td>\n",
       "      <td>...</td>\n",
       "      <td>NaN</td>\n",
       "      <td>NaN</td>\n",
       "      <td>NaN</td>\n",
       "      <td>NaN</td>\n",
       "      <td>NaN</td>\n",
       "      <td>NaN</td>\n",
       "      <td>NaN</td>\n",
       "      <td>NaN</td>\n",
       "      <td>0.0</td>\n",
       "      <td>NaN</td>\n",
       "    </tr>\n",
       "    <tr>\n",
       "      <th>2</th>\n",
       "      <td>3</td>\n",
       "      <td>ESPACIO ESCENICO</td>\n",
       "      <td>CLUB DE MUSICA EN VIVO</td>\n",
       "      <td>GIER MUSIC</td>\n",
       "      <td>NaN</td>\n",
       "      <td>SI</td>\n",
       "      <td>NaN</td>\n",
       "      <td>NaN</td>\n",
       "      <td>ALVAREZ THOMAS AV. 1078</td>\n",
       "      <td>ALVAREZ THOMAS AV.</td>\n",
       "      <td>...</td>\n",
       "      <td>NaN</td>\n",
       "      <td>https://www.instagram.com/giermusicclub/</td>\n",
       "      <td>NaN</td>\n",
       "      <td>NaN</td>\n",
       "      <td>NaN</td>\n",
       "      <td>NaN</td>\n",
       "      <td>NaN</td>\n",
       "      <td>1.0</td>\n",
       "      <td>265.0</td>\n",
       "      <td>NaN</td>\n",
       "    </tr>\n",
       "    <tr>\n",
       "      <th>3</th>\n",
       "      <td>4</td>\n",
       "      <td>MONUMENTOS Y LUGARES HISTORICOS</td>\n",
       "      <td>NaN</td>\n",
       "      <td>BOVEDA QUE GUARDA LOS RESTOS DE CARLOS GARDEL</td>\n",
       "      <td>NaN</td>\n",
       "      <td>NaN</td>\n",
       "      <td>NaN</td>\n",
       "      <td>NaN</td>\n",
       "      <td>LACROZE. FEDERICO AV. 4099</td>\n",
       "      <td>LACROZE. FEDERICO AV.</td>\n",
       "      <td>...</td>\n",
       "      <td>NaN</td>\n",
       "      <td>NaN</td>\n",
       "      <td>NaN</td>\n",
       "      <td>NaN</td>\n",
       "      <td>NaN</td>\n",
       "      <td>NaN</td>\n",
       "      <td>NaN</td>\n",
       "      <td>NaN</td>\n",
       "      <td>0.0</td>\n",
       "      <td>NaN</td>\n",
       "    </tr>\n",
       "    <tr>\n",
       "      <th>4</th>\n",
       "      <td>5</td>\n",
       "      <td>MONUMENTOS Y LUGARES HISTORICOS</td>\n",
       "      <td>NaN</td>\n",
       "      <td>ARCHIVO HISTORICO DEL CREMATORIO MUNICIPAL</td>\n",
       "      <td>NaN</td>\n",
       "      <td>NaN</td>\n",
       "      <td>NaN</td>\n",
       "      <td>NaN</td>\n",
       "      <td>LACROZE. FEDERICO AV. 4099</td>\n",
       "      <td>LACROZE. FEDERICO AV.</td>\n",
       "      <td>...</td>\n",
       "      <td>NaN</td>\n",
       "      <td>NaN</td>\n",
       "      <td>NaN</td>\n",
       "      <td>NaN</td>\n",
       "      <td>NaN</td>\n",
       "      <td>NaN</td>\n",
       "      <td>NaN</td>\n",
       "      <td>NaN</td>\n",
       "      <td>0.0</td>\n",
       "      <td>NaN</td>\n",
       "    </tr>\n",
       "    <tr>\n",
       "      <th>...</th>\n",
       "      <td>...</td>\n",
       "      <td>...</td>\n",
       "      <td>...</td>\n",
       "      <td>...</td>\n",
       "      <td>...</td>\n",
       "      <td>...</td>\n",
       "      <td>...</td>\n",
       "      <td>...</td>\n",
       "      <td>...</td>\n",
       "      <td>...</td>\n",
       "      <td>...</td>\n",
       "      <td>...</td>\n",
       "      <td>...</td>\n",
       "      <td>...</td>\n",
       "      <td>...</td>\n",
       "      <td>...</td>\n",
       "      <td>...</td>\n",
       "      <td>...</td>\n",
       "      <td>...</td>\n",
       "      <td>...</td>\n",
       "      <td>...</td>\n",
       "    </tr>\n",
       "    <tr>\n",
       "      <th>2963</th>\n",
       "      <td>2985</td>\n",
       "      <td>LIBRERIA</td>\n",
       "      <td>GENERAL</td>\n",
       "      <td>QUARTO QUILO</td>\n",
       "      <td>NaN</td>\n",
       "      <td>NaN</td>\n",
       "      <td>NaN</td>\n",
       "      <td>NaN</td>\n",
       "      <td>ONLINE</td>\n",
       "      <td>ONLINE</td>\n",
       "      <td>...</td>\n",
       "      <td>NaN</td>\n",
       "      <td>https://www.instagram.com/quartoquilo/?hl=es//...</td>\n",
       "      <td>NaN</td>\n",
       "      <td>NaN</td>\n",
       "      <td>NaN</td>\n",
       "      <td>NaN</td>\n",
       "      <td>NaN</td>\n",
       "      <td>0.0</td>\n",
       "      <td>0.0</td>\n",
       "      <td>LITERATURA, CIENCIAS POLITICAS, LITERATURA INF...</td>\n",
       "    </tr>\n",
       "    <tr>\n",
       "      <th>2964</th>\n",
       "      <td>2986</td>\n",
       "      <td>LIBRERIA</td>\n",
       "      <td>GENERAL</td>\n",
       "      <td>QUISOQUITO VIRTUAL</td>\n",
       "      <td>NaN</td>\n",
       "      <td>NaN</td>\n",
       "      <td>NaN</td>\n",
       "      <td>NaN</td>\n",
       "      <td>ONLINE</td>\n",
       "      <td>ONLINE</td>\n",
       "      <td>...</td>\n",
       "      <td>NaN</td>\n",
       "      <td>https://www.instagram.com/quiosquitovirtual/?f...</td>\n",
       "      <td>NaN</td>\n",
       "      <td>NaN</td>\n",
       "      <td>NaN</td>\n",
       "      <td>NaN</td>\n",
       "      <td>NaN</td>\n",
       "      <td>0.0</td>\n",
       "      <td>0.0</td>\n",
       "      <td>LITERATURA, CIENCIAS POLITICAS, LITERATURA INF...</td>\n",
       "    </tr>\n",
       "    <tr>\n",
       "      <th>2965</th>\n",
       "      <td>2987</td>\n",
       "      <td>LIBRERIA</td>\n",
       "      <td>GENERAL</td>\n",
       "      <td>RINCON BEAUCHEF</td>\n",
       "      <td>NaN</td>\n",
       "      <td>NaN</td>\n",
       "      <td>NaN</td>\n",
       "      <td>NaN</td>\n",
       "      <td>ONLINE</td>\n",
       "      <td>ONLINE</td>\n",
       "      <td>...</td>\n",
       "      <td>NaN</td>\n",
       "      <td>https://www.instagram.com/rinconbeauchef/</td>\n",
       "      <td>NaN</td>\n",
       "      <td>NaN</td>\n",
       "      <td>NaN</td>\n",
       "      <td>NaN</td>\n",
       "      <td>NaN</td>\n",
       "      <td>0.0</td>\n",
       "      <td>0.0</td>\n",
       "      <td>LITERATURA, CIENCIAS POLITICAS, LITERATURA INF...</td>\n",
       "    </tr>\n",
       "    <tr>\n",
       "      <th>2966</th>\n",
       "      <td>2988</td>\n",
       "      <td>LIBRERIA</td>\n",
       "      <td>GENERAL</td>\n",
       "      <td>SEGUI LEYENDO</td>\n",
       "      <td>NaN</td>\n",
       "      <td>NaN</td>\n",
       "      <td>NaN</td>\n",
       "      <td>NaN</td>\n",
       "      <td>ONLINE</td>\n",
       "      <td>ONLINE</td>\n",
       "      <td>...</td>\n",
       "      <td>NaN</td>\n",
       "      <td>https://www.instagram.com/seguileyendo/ https:...</td>\n",
       "      <td>NaN</td>\n",
       "      <td>NaN</td>\n",
       "      <td>NaN</td>\n",
       "      <td>NaN</td>\n",
       "      <td>NaN</td>\n",
       "      <td>0.0</td>\n",
       "      <td>0.0</td>\n",
       "      <td>LITERATURA, CIENCIAS POLITICAS, LITERATURA INF...</td>\n",
       "    </tr>\n",
       "    <tr>\n",
       "      <th>2967</th>\n",
       "      <td>2989</td>\n",
       "      <td>LIBRERIA</td>\n",
       "      <td>GENERAL</td>\n",
       "      <td>WAYRA</td>\n",
       "      <td>NaN</td>\n",
       "      <td>NaN</td>\n",
       "      <td>NaN</td>\n",
       "      <td>NaN</td>\n",
       "      <td>ONLINE</td>\n",
       "      <td>ONLINE</td>\n",
       "      <td>...</td>\n",
       "      <td>NaN</td>\n",
       "      <td>https://www.instagram.com/wayralibros/?hl=es-la</td>\n",
       "      <td>NaN</td>\n",
       "      <td>NaN</td>\n",
       "      <td>NaN</td>\n",
       "      <td>NaN</td>\n",
       "      <td>NaN</td>\n",
       "      <td>0.0</td>\n",
       "      <td>0.0</td>\n",
       "      <td>LITERATURA, CIENCIAS POLITICAS, LITERATURA INF...</td>\n",
       "    </tr>\n",
       "  </tbody>\n",
       "</table>\n",
       "<p>1977 rows × 29 columns</p>\n",
       "</div>"
      ],
      "text/plain": [
       "       fid                FUNCION_PRINCIPAL            SUBCATEGORIA  \\\n",
       "0        1                              BAR                 NOTABLE   \n",
       "1        2             ESPACIO DE FORMACION                     NaN   \n",
       "2        3                 ESPACIO ESCENICO  CLUB DE MUSICA EN VIVO   \n",
       "3        4  MONUMENTOS Y LUGARES HISTORICOS                     NaN   \n",
       "4        5  MONUMENTOS Y LUGARES HISTORICOS                     NaN   \n",
       "...    ...                              ...                     ...   \n",
       "2963  2985                         LIBRERIA                 GENERAL   \n",
       "2964  2986                         LIBRERIA                 GENERAL   \n",
       "2965  2987                         LIBRERIA                 GENERAL   \n",
       "2966  2988                         LIBRERIA                 GENERAL   \n",
       "2967  2989                         LIBRERIA                 GENERAL   \n",
       "\n",
       "                                    ESTABLECIMIENTO FUNCION_SECUNDARIA  \\\n",
       "0                                        8 ESQUINAS                NaN   \n",
       "1           ESCUELA METROPOLITANA DE ARTE DRAMATICA                NaN   \n",
       "2                                        GIER MUSIC                NaN   \n",
       "3     BOVEDA QUE GUARDA LOS RESTOS DE CARLOS GARDEL                NaN   \n",
       "4        ARCHIVO HISTORICO DEL CREMATORIO MUNICIPAL                NaN   \n",
       "...                                             ...                ...   \n",
       "2963                                   QUARTO QUILO                NaN   \n",
       "2964                             QUISOQUITO VIRTUAL                NaN   \n",
       "2965                                RINCON BEAUCHEF                NaN   \n",
       "2966                                  SEGUI LEYENDO                NaN   \n",
       "2967                                          WAYRA                NaN   \n",
       "\n",
       "     PROGRAMACION SUCURSAL     SALA                   DIRECCION  \\\n",
       "0             NaN      NaN      NaN             FOREST AV. 1186   \n",
       "1             NaN   FOREST  ANEXO 3              FOREST AV. 933   \n",
       "2              SI      NaN      NaN     ALVAREZ THOMAS AV. 1078   \n",
       "3             NaN      NaN      NaN  LACROZE. FEDERICO AV. 4099   \n",
       "4             NaN      NaN      NaN  LACROZE. FEDERICO AV. 4099   \n",
       "...           ...      ...      ...                         ...   \n",
       "2963          NaN      NaN      NaN                      ONLINE   \n",
       "2964          NaN      NaN      NaN                      ONLINE   \n",
       "2965          NaN      NaN      NaN                      ONLINE   \n",
       "2966          NaN      NaN      NaN                      ONLINE   \n",
       "2967          NaN      NaN      NaN                      ONLINE   \n",
       "\n",
       "                      CALLE  ...  TWITTER  \\\n",
       "0                FOREST AV.  ...      NaN   \n",
       "1                FOREST AV.  ...      NaN   \n",
       "2        ALVAREZ THOMAS AV.  ...      NaN   \n",
       "3     LACROZE. FEDERICO AV.  ...      NaN   \n",
       "4     LACROZE. FEDERICO AV.  ...      NaN   \n",
       "...                     ...  ...      ...   \n",
       "2963                 ONLINE  ...      NaN   \n",
       "2964                 ONLINE  ...      NaN   \n",
       "2965                 ONLINE  ...      NaN   \n",
       "2966                 ONLINE  ...      NaN   \n",
       "2967                 ONLINE  ...      NaN   \n",
       "\n",
       "                                              INSTAGRAM CAMARA_1  CAMARA_2  \\\n",
       "0                                         @8esquinasbar      NaN       NaN   \n",
       "1                                                   NaN      NaN       NaN   \n",
       "2              https://www.instagram.com/giermusicclub/      NaN       NaN   \n",
       "3                                                   NaN      NaN       NaN   \n",
       "4                                                   NaN      NaN       NaN   \n",
       "...                                                 ...      ...       ...   \n",
       "2963  https://www.instagram.com/quartoquilo/?hl=es//...      NaN       NaN   \n",
       "2964  https://www.instagram.com/quiosquitovirtual/?f...      NaN       NaN   \n",
       "2965          https://www.instagram.com/rinconbeauchef/      NaN       NaN   \n",
       "2966  https://www.instagram.com/seguileyendo/ https:...      NaN       NaN   \n",
       "2967    https://www.instagram.com/wayralibros/?hl=es-la      NaN       NaN   \n",
       "\n",
       "      REDES PUNTO_DE_CULTURA OTRAS_REDES CANTIDAD_SALAS CAPACIDAD_TOTAL  \\\n",
       "0       NaN              NaN         NaN            NaN             0.0   \n",
       "1       NaN              NaN         NaN            NaN             0.0   \n",
       "2       NaN              NaN         NaN            1.0           265.0   \n",
       "3       NaN              NaN         NaN            NaN             0.0   \n",
       "4       NaN              NaN         NaN            NaN             0.0   \n",
       "...     ...              ...         ...            ...             ...   \n",
       "2963    NaN              NaN         NaN            0.0             0.0   \n",
       "2964    NaN              NaN         NaN            0.0             0.0   \n",
       "2965    NaN              NaN         NaN            0.0             0.0   \n",
       "2966    NaN              NaN         NaN            0.0             0.0   \n",
       "2967    NaN              NaN         NaN            0.0             0.0   \n",
       "\n",
       "                                                    TAG  \n",
       "0                                                   NaN  \n",
       "1                                                   NaN  \n",
       "2                                                   NaN  \n",
       "3                                                   NaN  \n",
       "4                                                   NaN  \n",
       "...                                                 ...  \n",
       "2963  LITERATURA, CIENCIAS POLITICAS, LITERATURA INF...  \n",
       "2964  LITERATURA, CIENCIAS POLITICAS, LITERATURA INF...  \n",
       "2965  LITERATURA, CIENCIAS POLITICAS, LITERATURA INF...  \n",
       "2966  LITERATURA, CIENCIAS POLITICAS, LITERATURA INF...  \n",
       "2967  LITERATURA, CIENCIAS POLITICAS, LITERATURA INF...  \n",
       "\n",
       "[1977 rows x 29 columns]"
      ]
     },
     "execution_count": 31,
     "metadata": {},
     "output_type": "execute_result"
    }
   ],
   "source": [
    "#Luego, eliminamos algunas filas\n",
    "df.drop(df.index[9:1000], axis=0, inplace=True)\n",
    "df"
   ]
  },
  {
   "cell_type": "code",
   "execution_count": 43,
   "id": "00f2bba1",
   "metadata": {
    "id": "00f2bba1"
   },
   "outputs": [],
   "source": [
    "#Vamos realizar grafico de barras\n",
    "#Importamos las librerias que necesitamos\n",
    "import matplotlib.pyplot as plt\n",
    "import seaborn as sns"
   ]
  },
  {
   "cell_type": "code",
   "execution_count": 49,
   "id": "5e2031b1",
   "metadata": {
    "colab": {
     "base_uri": "https://localhost:8080/"
    },
    "id": "5e2031b1",
    "outputId": "3a7d3e9c-7769-4fc7-9cc7-cf7aacf48b9e"
   },
   "outputs": [
    {
     "data": {
      "image/png": "[encoded data removed]",
      "text/plain": [
       "<Figure size 720x360 with 1 Axes>"
      ]
     },
     "metadata": {
      "needs_background": "light"
     },
     "output_type": "display_data"
    }
   ],
   "source": [
    "fig = plt.figure(figsize=(10, 5)) # Agrego tamaño de gráfico\n",
    "plt.bar(df['FUNCION_PRINCIPAL'], df['FUNCION_PRINCIPAL'])\n",
    "plt.tick_params(axis='x', rotation=45) # Agrego rotación de etiquetas\n",
    "plt.show() # Me muestra solo el grafico"
   ]
  },
  {
   "cell_type": "code",
   "execution_count": 33,
   "id": "ev-GWo3URm4S",
   "metadata": {
    "colab": {
     "base_uri": "https://localhost:8080/"
    },
    "id": "ev-GWo3URm4S",
    "outputId": "48eeabb7-1027-4e53-b44d-52a7f5f687bc"
   },
   "outputs": [
    {
     "data": {
      "text/html": [
       "<div>\n",
       "<style scoped>\n",
       "    .dataframe tbody tr th:only-of-type {\n",
       "        vertical-align: middle;\n",
       "    }\n",
       "\n",
       "    .dataframe tbody tr th {\n",
       "        vertical-align: top;\n",
       "    }\n",
       "\n",
       "    .dataframe thead th {\n",
       "        text-align: right;\n",
       "    }\n",
       "</style>\n",
       "<table border=\"1\" class=\"dataframe\">\n",
       "  <thead>\n",
       "    <tr style=\"text-align: right;\">\n",
       "      <th></th>\n",
       "      <th>fid</th>\n",
       "      <th>FUNCION_PRINCIPAL</th>\n",
       "      <th>SUBCATEGORIA</th>\n",
       "      <th>ESTABLECIMIENTO</th>\n",
       "      <th>FUNCION_SECUNDARIA</th>\n",
       "      <th>PROGRAMACION</th>\n",
       "      <th>SUCURSAL</th>\n",
       "      <th>SALA</th>\n",
       "      <th>DIRECCION</th>\n",
       "      <th>CALLE</th>\n",
       "      <th>...</th>\n",
       "      <th>TWITTER</th>\n",
       "      <th>INSTAGRAM</th>\n",
       "      <th>CAMARA_1</th>\n",
       "      <th>CAMARA_2</th>\n",
       "      <th>REDES</th>\n",
       "      <th>PUNTO_DE_CULTURA</th>\n",
       "      <th>OTRAS_REDES</th>\n",
       "      <th>CANTIDAD_SALAS</th>\n",
       "      <th>CAPACIDAD_TOTAL</th>\n",
       "      <th>TAG</th>\n",
       "    </tr>\n",
       "  </thead>\n",
       "  <tbody>\n",
       "    <tr>\n",
       "      <th>0</th>\n",
       "      <td>1</td>\n",
       "      <td>BAR</td>\n",
       "      <td>NOTABLE</td>\n",
       "      <td>8 ESQUINAS</td>\n",
       "      <td>NaN</td>\n",
       "      <td>NaN</td>\n",
       "      <td>NaN</td>\n",
       "      <td>NaN</td>\n",
       "      <td>FOREST AV. 1186</td>\n",
       "      <td>FOREST AV.</td>\n",
       "      <td>...</td>\n",
       "      <td>NaN</td>\n",
       "      <td>@8esquinasbar</td>\n",
       "      <td>NaN</td>\n",
       "      <td>NaN</td>\n",
       "      <td>NaN</td>\n",
       "      <td>NaN</td>\n",
       "      <td>NaN</td>\n",
       "      <td>NaN</td>\n",
       "      <td>0.0</td>\n",
       "      <td>NaN</td>\n",
       "    </tr>\n",
       "    <tr>\n",
       "      <th>1</th>\n",
       "      <td>2</td>\n",
       "      <td>ESPACIO DE FORMACION</td>\n",
       "      <td>NaN</td>\n",
       "      <td>ESCUELA METROPOLITANA DE ARTE DRAMATICA</td>\n",
       "      <td>NaN</td>\n",
       "      <td>NaN</td>\n",
       "      <td>FOREST</td>\n",
       "      <td>ANEXO 3</td>\n",
       "      <td>FOREST AV. 933</td>\n",
       "      <td>FOREST AV.</td>\n",
       "      <td>...</td>\n",
       "      <td>NaN</td>\n",
       "      <td>NaN</td>\n",
       "      <td>NaN</td>\n",
       "      <td>NaN</td>\n",
       "      <td>NaN</td>\n",
       "      <td>NaN</td>\n",
       "      <td>NaN</td>\n",
       "      <td>NaN</td>\n",
       "      <td>0.0</td>\n",
       "      <td>NaN</td>\n",
       "    </tr>\n",
       "    <tr>\n",
       "      <th>2</th>\n",
       "      <td>3</td>\n",
       "      <td>ESPACIO ESCENICO</td>\n",
       "      <td>CLUB DE MUSICA EN VIVO</td>\n",
       "      <td>GIER MUSIC</td>\n",
       "      <td>NaN</td>\n",
       "      <td>SI</td>\n",
       "      <td>NaN</td>\n",
       "      <td>NaN</td>\n",
       "      <td>ALVAREZ THOMAS AV. 1078</td>\n",
       "      <td>ALVAREZ THOMAS AV.</td>\n",
       "      <td>...</td>\n",
       "      <td>NaN</td>\n",
       "      <td>https://www.instagram.com/giermusicclub/</td>\n",
       "      <td>NaN</td>\n",
       "      <td>NaN</td>\n",
       "      <td>NaN</td>\n",
       "      <td>NaN</td>\n",
       "      <td>NaN</td>\n",
       "      <td>1.0</td>\n",
       "      <td>265.0</td>\n",
       "      <td>NaN</td>\n",
       "    </tr>\n",
       "    <tr>\n",
       "      <th>3</th>\n",
       "      <td>4</td>\n",
       "      <td>MONUMENTOS Y LUGARES HISTORICOS</td>\n",
       "      <td>NaN</td>\n",
       "      <td>BOVEDA QUE GUARDA LOS RESTOS DE CARLOS GARDEL</td>\n",
       "      <td>NaN</td>\n",
       "      <td>NaN</td>\n",
       "      <td>NaN</td>\n",
       "      <td>NaN</td>\n",
       "      <td>LACROZE. FEDERICO AV. 4099</td>\n",
       "      <td>LACROZE. FEDERICO AV.</td>\n",
       "      <td>...</td>\n",
       "      <td>NaN</td>\n",
       "      <td>NaN</td>\n",
       "      <td>NaN</td>\n",
       "      <td>NaN</td>\n",
       "      <td>NaN</td>\n",
       "      <td>NaN</td>\n",
       "      <td>NaN</td>\n",
       "      <td>NaN</td>\n",
       "      <td>0.0</td>\n",
       "      <td>NaN</td>\n",
       "    </tr>\n",
       "    <tr>\n",
       "      <th>4</th>\n",
       "      <td>5</td>\n",
       "      <td>MONUMENTOS Y LUGARES HISTORICOS</td>\n",
       "      <td>NaN</td>\n",
       "      <td>ARCHIVO HISTORICO DEL CREMATORIO MUNICIPAL</td>\n",
       "      <td>NaN</td>\n",
       "      <td>NaN</td>\n",
       "      <td>NaN</td>\n",
       "      <td>NaN</td>\n",
       "      <td>LACROZE. FEDERICO AV. 4099</td>\n",
       "      <td>LACROZE. FEDERICO AV.</td>\n",
       "      <td>...</td>\n",
       "      <td>NaN</td>\n",
       "      <td>NaN</td>\n",
       "      <td>NaN</td>\n",
       "      <td>NaN</td>\n",
       "      <td>NaN</td>\n",
       "      <td>NaN</td>\n",
       "      <td>NaN</td>\n",
       "      <td>NaN</td>\n",
       "      <td>0.0</td>\n",
       "      <td>NaN</td>\n",
       "    </tr>\n",
       "  </tbody>\n",
       "</table>\n",
       "<p>5 rows × 29 columns</p>\n",
       "</div>"
      ],
      "text/plain": [
       "   fid                FUNCION_PRINCIPAL            SUBCATEGORIA  \\\n",
       "0    1                              BAR                 NOTABLE   \n",
       "1    2             ESPACIO DE FORMACION                     NaN   \n",
       "2    3                 ESPACIO ESCENICO  CLUB DE MUSICA EN VIVO   \n",
       "3    4  MONUMENTOS Y LUGARES HISTORICOS                     NaN   \n",
       "4    5  MONUMENTOS Y LUGARES HISTORICOS                     NaN   \n",
       "\n",
       "                                 ESTABLECIMIENTO FUNCION_SECUNDARIA  \\\n",
       "0                                     8 ESQUINAS                NaN   \n",
       "1        ESCUELA METROPOLITANA DE ARTE DRAMATICA                NaN   \n",
       "2                                     GIER MUSIC                NaN   \n",
       "3  BOVEDA QUE GUARDA LOS RESTOS DE CARLOS GARDEL                NaN   \n",
       "4     ARCHIVO HISTORICO DEL CREMATORIO MUNICIPAL                NaN   \n",
       "\n",
       "  PROGRAMACION SUCURSAL     SALA                   DIRECCION  \\\n",
       "0          NaN      NaN      NaN             FOREST AV. 1186   \n",
       "1          NaN   FOREST  ANEXO 3              FOREST AV. 933   \n",
       "2           SI      NaN      NaN     ALVAREZ THOMAS AV. 1078   \n",
       "3          NaN      NaN      NaN  LACROZE. FEDERICO AV. 4099   \n",
       "4          NaN      NaN      NaN  LACROZE. FEDERICO AV. 4099   \n",
       "\n",
       "                   CALLE  ...  TWITTER  \\\n",
       "0             FOREST AV.  ...      NaN   \n",
       "1             FOREST AV.  ...      NaN   \n",
       "2     ALVAREZ THOMAS AV.  ...      NaN   \n",
       "3  LACROZE. FEDERICO AV.  ...      NaN   \n",
       "4  LACROZE. FEDERICO AV.  ...      NaN   \n",
       "\n",
       "                                  INSTAGRAM CAMARA_1  CAMARA_2  REDES  \\\n",
       "0                             @8esquinasbar      NaN       NaN    NaN   \n",
       "1                                       NaN      NaN       NaN    NaN   \n",
       "2  https://www.instagram.com/giermusicclub/      NaN       NaN    NaN   \n",
       "3                                       NaN      NaN       NaN    NaN   \n",
       "4                                       NaN      NaN       NaN    NaN   \n",
       "\n",
       "  PUNTO_DE_CULTURA OTRAS_REDES CANTIDAD_SALAS CAPACIDAD_TOTAL  TAG  \n",
       "0              NaN         NaN            NaN             0.0  NaN  \n",
       "1              NaN         NaN            NaN             0.0  NaN  \n",
       "2              NaN         NaN            1.0           265.0  NaN  \n",
       "3              NaN         NaN            NaN             0.0  NaN  \n",
       "4              NaN         NaN            NaN             0.0  NaN  \n",
       "\n",
       "[5 rows x 29 columns]"
      ]
     },
     "execution_count": 33,
     "metadata": {},
     "output_type": "execute_result"
    }
   ],
   "source": [
    "#Renombramos\n",
    "datos_piramide = pd.read_csv('espacios-culturales.csv')\n",
    "datos_piramide.head()"
   ]
  },
  {
   "cell_type": "code",
   "execution_count": 34,
   "id": "gPHQ2-DFOyPG",
   "metadata": {
    "colab": {
     "base_uri": "https://localhost:8080/"
    },
    "id": "gPHQ2-DFOyPG",
    "outputId": "6a215c54-7b57-4f18-ace0-672a025fa223"
   },
   "outputs": [],
   "source": [
    "#Agrupamos\n",
    "\n",
    "datos_piramide_FUNCION_PRINCIPAL = datos_piramide.groupby(['FUNCION_PRINCIPAL']).sum()\n"
   ]
  },
  {
   "cell_type": "code",
   "execution_count": 35,
   "id": "0YDGPuB3PfdC",
   "metadata": {
    "colab": {
     "base_uri": "https://localhost:8080/"
    },
    "id": "0YDGPuB3PfdC",
    "outputId": "bf10b3bb-be83-476f-c8af-546858847b06"
   },
   "outputs": [
    {
     "data": {
      "text/html": [
       "<div>\n",
       "<style scoped>\n",
       "    .dataframe tbody tr th:only-of-type {\n",
       "        vertical-align: middle;\n",
       "    }\n",
       "\n",
       "    .dataframe tbody tr th {\n",
       "        vertical-align: top;\n",
       "    }\n",
       "\n",
       "    .dataframe thead th {\n",
       "        text-align: right;\n",
       "    }\n",
       "</style>\n",
       "<table border=\"1\" class=\"dataframe\">\n",
       "  <thead>\n",
       "    <tr style=\"text-align: right;\">\n",
       "      <th></th>\n",
       "      <th>fid</th>\n",
       "      <th>ALTURA</th>\n",
       "      <th>LATITUD</th>\n",
       "      <th>LONGITUD</th>\n",
       "      <th>CANTIDAD_SALAS</th>\n",
       "      <th>CAPACIDAD_TOTAL</th>\n",
       "    </tr>\n",
       "    <tr>\n",
       "      <th>FUNCION_PRINCIPAL</th>\n",
       "      <th></th>\n",
       "      <th></th>\n",
       "      <th></th>\n",
       "      <th></th>\n",
       "      <th></th>\n",
       "      <th></th>\n",
       "    </tr>\n",
       "  </thead>\n",
       "  <tbody>\n",
       "    <tr>\n",
       "      <th>BAR</th>\n",
       "      <td>306432</td>\n",
       "      <td>447134.0</td>\n",
       "      <td>-8687.270906</td>\n",
       "      <td>-14662.887236</td>\n",
       "      <td>9.0</td>\n",
       "      <td>2724.0</td>\n",
       "    </tr>\n",
       "    <tr>\n",
       "      <th>BIBLIOTECA</th>\n",
       "      <td>968910</td>\n",
       "      <td>959949.0</td>\n",
       "      <td>-21418.619248</td>\n",
       "      <td>-36154.369806</td>\n",
       "      <td>0.0</td>\n",
       "      <td>0.0</td>\n",
       "    </tr>\n",
       "    <tr>\n",
       "      <th>CALESITA</th>\n",
       "      <td>47931</td>\n",
       "      <td>30221.0</td>\n",
       "      <td>-1695.944950</td>\n",
       "      <td>-2863.849487</td>\n",
       "      <td>0.0</td>\n",
       "      <td>0.0</td>\n",
       "    </tr>\n",
       "    <tr>\n",
       "      <th>CENTRO CULTURAL</th>\n",
       "      <td>380624</td>\n",
       "      <td>647891.0</td>\n",
       "      <td>-11004.223900</td>\n",
       "      <td>-18579.400734</td>\n",
       "      <td>182.0</td>\n",
       "      <td>26689.0</td>\n",
       "    </tr>\n",
       "    <tr>\n",
       "      <th>DISQUERIA</th>\n",
       "      <td>102770</td>\n",
       "      <td>105338.0</td>\n",
       "      <td>-2145.322612</td>\n",
       "      <td>-3621.643641</td>\n",
       "      <td>0.0</td>\n",
       "      <td>0.0</td>\n",
       "    </tr>\n",
       "  </tbody>\n",
       "</table>\n",
       "</div>"
      ],
      "text/plain": [
       "                      fid    ALTURA       LATITUD      LONGITUD  \\\n",
       "FUNCION_PRINCIPAL                                                 \n",
       "BAR                306432  447134.0  -8687.270906 -14662.887236   \n",
       "BIBLIOTECA         968910  959949.0 -21418.619248 -36154.369806   \n",
       "CALESITA            47931   30221.0  -1695.944950  -2863.849487   \n",
       "CENTRO CULTURAL    380624  647891.0 -11004.223900 -18579.400734   \n",
       "DISQUERIA          102770  105338.0  -2145.322612  -3621.643641   \n",
       "\n",
       "                   CANTIDAD_SALAS  CAPACIDAD_TOTAL  \n",
       "FUNCION_PRINCIPAL                                   \n",
       "BAR                           9.0           2724.0  \n",
       "BIBLIOTECA                    0.0              0.0  \n",
       "CALESITA                      0.0              0.0  \n",
       "CENTRO CULTURAL             182.0          26689.0  \n",
       "DISQUERIA                     0.0              0.0  "
      ]
     },
     "execution_count": 35,
     "metadata": {},
     "output_type": "execute_result"
    }
   ],
   "source": [
    "#Imprimimos\n",
    "datos_piramide_FUNCION_PRINCIPAL.head()"
   ]
  },
  {
   "cell_type": "code",
   "execution_count": 36,
   "id": "yprGIfODSOb3",
   "metadata": {
    "colab": {
     "base_uri": "https://localhost:8080/"
    },
    "id": "yprGIfODSOb3",
    "outputId": "353022e0-3b09-47af-93f1-5a263de3aa7d"
   },
   "outputs": [
    {
     "data": {
      "image/png": "[encoded data removed]",
      "text/plain": [
       "<Figure size 432x288 with 1 Axes>"
      ]
     },
     "metadata": {},
     "output_type": "display_data"
    }
   ],
   "source": [
    "\n",
    "#Hacemos grafico con pandas \n",
    "\n",
    "plt.pie(datos_piramide_FUNCION_PRINCIPAL['CANTIDAD_SALAS'],autopct='%1.1f%%')\n",
    "plt.show()"
   ]
  },
  {
   "cell_type": "code",
   "execution_count": 90,
   "id": "jKYMg6YOv_Qg",
   "metadata": {
    "colab": {
     "base_uri": "https://localhost:8080/"
    },
    "id": "jKYMg6YOv_Qg",
    "outputId": "479790b7-fceb-4ae2-cb95-5e73e03a751c"
   },
   "outputs": [
    {
     "data": {
      "image/png": "[encoded data removed]",
      "text/plain": [
       "<Figure size 1152x576 with 1 Axes>"
      ]
     },
     "metadata": {},
     "output_type": "display_data"
    }
   ],
   "source": [
    "#Otra variante\n",
    "datos_piramide_FUNCION_PRINCIPAL.plot(kind='pie', y='CANTIDAD_SALAS', figsize=(16,8),fontsize=8)\n",
    "plt.axis('equal')\n",
    "plt.ylabel('')\n",
    "plt.legend(loc=\"best\")\n",
    "plt.show()"
   ]
  },
  {
   "cell_type": "code",
   "execution_count": 62,
   "id": "YNOuwFpCWM0-",
   "metadata": {
    "colab": {
     "base_uri": "https://localhost:8080/"
    },
    "id": "YNOuwFpCWM0-",
    "outputId": "58ac6e1c-d28e-4b23-a382-879b00d45b08"
   },
   "outputs": [
    {
     "name": "stdout",
     "output_type": "stream",
     "text": [
      "<class 'pandas.core.frame.DataFrame'>\n",
      "RangeIndex: 2968 entries, 0 to 2967\n",
      "Data columns (total 29 columns):\n",
      " #   Column              Non-Null Count  Dtype  \n",
      "---  ------              --------------  -----  \n",
      " 0   fid                 2968 non-null   int64  \n",
      " 1   FUNCION_PRINCIPAL   2968 non-null   object \n",
      " 2   SUBCATEGORIA        2047 non-null   object \n",
      " 3   ESTABLECIMIENTO     2968 non-null   object \n",
      " 4   FUNCION_SECUNDARIA  402 non-null    object \n",
      " 5   PROGRAMACION        310 non-null    object \n",
      " 6   SUCURSAL            125 non-null    object \n",
      " 7   SALA                45 non-null     object \n",
      " 8   DIRECCION           2940 non-null   object \n",
      " 9   CALLE               2887 non-null   object \n",
      " 10  ALTURA              2766 non-null   float64\n",
      " 11  BARRIO              2968 non-null   object \n",
      " 12  COMUNA              2968 non-null   object \n",
      " 13  LATITUD             2956 non-null   float64\n",
      " 14  LONGITUD            2956 non-null   float64\n",
      " 15  TELEFONO            2051 non-null   object \n",
      " 16  MAIL                1867 non-null   object \n",
      " 17  WEB                 1636 non-null   object \n",
      " 18  FACEBOOK            897 non-null    object \n",
      " 19  TWITTER             163 non-null    object \n",
      " 20  INSTAGRAM           538 non-null    object \n",
      " 21  CAMARA_1            680 non-null    object \n",
      " 22  CAMARA_2            50 non-null     object \n",
      " 23  REDES               29 non-null     object \n",
      " 24  PUNTO_DE_CULTURA    20 non-null     object \n",
      " 25  OTRAS_REDES         8 non-null      object \n",
      " 26  CANTIDAD_SALAS      481 non-null    float64\n",
      " 27  CAPACIDAD_TOTAL     2885 non-null   float64\n",
      " 28  TAG                 369 non-null    object \n",
      "dtypes: float64(5), int64(1), object(23)\n",
      "memory usage: 672.6+ KB\n"
     ]
    }
   ],
   "source": [
    "#Veamos si los datos tienen valores nulos.\n",
    "datos_piramide.info()"
   ]
  },
  {
   "cell_type": "code",
   "execution_count": 63,
   "id": "-p9wUPxjWgmK",
   "metadata": {
    "colab": {
     "base_uri": "https://localhost:8080/"
    },
    "id": "-p9wUPxjWgmK",
    "outputId": "5f874c72-68e9-472b-b5c1-02adef18ec60"
   },
   "outputs": [
    {
     "data": {
      "text/plain": [
       "['BAR',\n",
       " 'ESPACIO DE FORMACION',\n",
       " 'ESPACIO ESCENICO',\n",
       " 'MONUMENTOS Y LUGARES HISTORICOS',\n",
       " 'ESPACIO DE EXHIBICION',\n",
       " 'LIBRERIA',\n",
       " 'CENTRO CULTURAL',\n",
       " 'BIBLIOTECA',\n",
       " 'ESPACIO FERIAL',\n",
       " 'CALESITA',\n",
       " 'SALA DE CINE',\n",
       " 'DISQUERIA']"
      ]
     },
     "execution_count": 63,
     "metadata": {},
     "output_type": "execute_result"
    }
   ],
   "source": [
    "#Esto lo podemos deducir conociendo el tipo de dato.\n",
    "#Veamos si es real\n",
    "datos_piramide['FUNCION_PRINCIPAL'].unique().tolist()"
   ]
  },
  {
   "cell_type": "code",
   "execution_count": 64,
   "id": "m95pvoTPXhZP",
   "metadata": {
    "colab": {
     "base_uri": "https://localhost:8080/",
     "height": 204
    },
    "id": "m95pvoTPXhZP",
    "outputId": "c996dcea-27f4-43f2-f64b-970f565c83ce"
   },
   "outputs": [
    {
     "data": {
      "text/plain": [
       "['fid',\n",
       " 'FUNCION_PRINCIPAL',\n",
       " 'SUBCATEGORIA',\n",
       " 'ESTABLECIMIENTO',\n",
       " 'FUNCION_SECUNDARIA',\n",
       " 'PROGRAMACION',\n",
       " 'SUCURSAL',\n",
       " 'SALA',\n",
       " 'DIRECCION',\n",
       " 'CALLE',\n",
       " 'ALTURA',\n",
       " 'BARRIO',\n",
       " 'COMUNA',\n",
       " 'LATITUD',\n",
       " 'LONGITUD',\n",
       " 'TELEFONO',\n",
       " 'MAIL',\n",
       " 'WEB',\n",
       " 'FACEBOOK',\n",
       " 'TWITTER',\n",
       " 'INSTAGRAM',\n",
       " 'CAMARA_1',\n",
       " 'CAMARA_2',\n",
       " 'REDES',\n",
       " 'PUNTO_DE_CULTURA',\n",
       " 'OTRAS_REDES',\n",
       " 'CANTIDAD_SALAS',\n",
       " 'CAPACIDAD_TOTAL',\n",
       " 'TAG']"
      ]
     },
     "execution_count": 64,
     "metadata": {},
     "output_type": "execute_result"
    }
   ],
   "source": [
    "#Veamos las columnas.\n",
    "datos_piramide.columns.tolist()"
   ]
  },
  {
   "cell_type": "code",
   "execution_count": 65,
   "id": "DDpAFzP4z4Gc",
   "metadata": {
    "colab": {
     "base_uri": "https://localhost:8080/",
     "height": 187
    },
    "id": "DDpAFzP4z4Gc",
    "outputId": "df82618e-585e-4de0-8fff-b7a90f4c83af"
   },
   "outputs": [
    {
     "name": "stdout",
     "output_type": "stream",
     "text": [
      "Columna: fid 2968 / 2968 ---- Ejemplo de valores: [1, 2, 3, 4, 5] ----  Tipo de columna: <class 'numpy.int64'> \n",
      "\n",
      "Columna: FUNCION_PRINCIPAL 2968 / 2968 ---- Ejemplo de valores: ['BAR', 'ESPACIO DE FORMACION', 'ESPACIO ESCENICO', 'MONUMENTOS Y LUGARES HISTORICOS', 'ESPACIO DE EXHIBICION'] ----  Tipo de columna: <class 'str'> \n",
      "\n",
      "Columna: SUBCATEGORIA 2968 / 2968 ---- Ejemplo de valores: ['NOTABLE', nan, 'CLUB DE MUSICA EN VIVO', 'OTROS', 'MUSEO'] ----  Tipo de columna: <class 'str'> \n",
      "\n",
      "Columna: ESTABLECIMIENTO 2968 / 2968 ---- Ejemplo de valores: ['8 ESQUINAS', 'ESCUELA METROPOLITANA DE ARTE DRAMATICA', 'GIER MUSIC', 'BOVEDA QUE GUARDA LOS RESTOS DE CARLOS GARDEL', 'ARCHIVO HISTORICO DEL CREMATORIO MUNICIPAL'] ----  Tipo de columna: <class 'str'> \n",
      "\n",
      "Columna: FUNCION_SECUNDARIA 2968 / 2968 ---- Ejemplo de valores: [nan, 'ESPACIO ESCENICO', 'ESPACIO DE FORMACION', 'BAR', 'ESPACIO DE FORMACION, ESPACIO ESCENICO'] ----  Tipo de columna: <class 'float'> \n",
      "\n",
      "Columna: PROGRAMACION 2968 / 2968 ---- Ejemplo de valores: [nan, 'SI', 'NO'] ----  Tipo de columna: <class 'float'> \n",
      "\n",
      "Columna: SUCURSAL 2968 / 2968 ---- Ejemplo de valores: [nan, 'FOREST', 'LEIVA', 'SCALABRINI ORTIZ', 'MALABIA'] ----  Tipo de columna: <class 'float'> \n",
      "\n",
      "Columna: SALA 2968 / 2968 ---- Ejemplo de valores: [nan, 'ANEXO 3', 'ANEXO 2', 'SALA DE ENSAYOS DEL PISO 11', 'ANEXO 1'] ----  Tipo de columna: <class 'float'> \n",
      "\n",
      "Columna: DIRECCION 2968 / 2968 ---- Ejemplo de valores: ['FOREST AV. 1186', 'FOREST AV. 933', 'ALVAREZ THOMAS AV. 1078', 'LACROZE. FEDERICO AV. 4099', 'LACROZE. FEDERICO AV. 4181'] ----  Tipo de columna: <class 'str'> \n",
      "\n",
      "Columna: CALLE 2968 / 2968 ---- Ejemplo de valores: ['FOREST AV.', 'ALVAREZ THOMAS AV.', 'LACROZE. FEDERICO AV.', 'OLLEROS', 'ROSETI'] ----  Tipo de columna: <class 'str'> \n",
      "\n",
      "Columna: ALTURA 2968 / 2968 ---- Ejemplo de valores: [1186.0, 933.0, 1078.0, 4099.0, 4181.0] ----  Tipo de columna: <class 'numpy.float64'> \n",
      "\n",
      "Columna: BARRIO 2968 / 2968 ---- Ejemplo de valores: ['CHACARITA', 'PATERNAL', 'VILLA CRESPO', 'VILLA DEL PARQUE', 'ALMAGRO'] ----  Tipo de columna: <class 'str'> \n",
      "\n",
      "Columna: COMUNA 2968 / 2968 ---- Ejemplo de valores: ['COMUNA 15', 'COMUNA 11', 'COMUNA 05', 'COMUNA 06', 'COMUNA 10'] ----  Tipo de columna: <class 'str'> \n",
      "\n",
      "Columna: LATITUD 2968 / 2968 ---- Ejemplo de valores: [-34.5785172867556, -34.5816379, -34.578781917902, -34.58723, -34.5871355777632] ----  Tipo de columna: <class 'numpy.float64'> \n",
      "\n",
      "Columna: LONGITUD 2968 / 2968 ---- Ejemplo de valores: [-58.4601371509695, -58.4570716, -58.4568571567478, -58.45585, -58.4551009334531] ----  Tipo de columna: <class 'numpy.float64'> \n",
      "\n",
      "Columna: TELEFONO 2968 / 2968 ---- Ejemplo de valores: ['4554-5129', nan, '15-6423-8444', '4552-2257', '4554-5529'] ----  Tipo de columna: <class 'str'> \n",
      "\n",
      "Columna: MAIL 2968 / 2968 ---- Ejemplo de valores: ['INFO@OCHOESQUINAS.COM.AR', nan, 'bandas@giermusicclub.com.ar', 'INFO@SIMIK.COM.AR', 'elextranjerolibreria@gmail.com'] ----  Tipo de columna: <class 'str'> \n",
      "\n",
      "Columna: WEB 2968 / 2968 ---- Ejemplo de valores: ['WWW.OCHOESQUINAS.COM.AR', nan, 'http://www.giermusicclub.com.ar', 'WWW.MUTUALSENTIMIENTO.ORG.AR', 'WWW.MUSEOFOTOGRAFICOSIMIK.COM'] ----  Tipo de columna: <class 'str'> \n",
      "\n",
      "Columna: FACEBOOK 2968 / 2968 ---- Ejemplo de valores: ['https://www.facebook.com/8esquinasbar/', nan, 'https://www.facebook.com/GierMusicClub/', 'WWW.FACEBOOK.COM/SENTIMIENTOMUTUAL/', 'WWW.FACEBOOK.COM/ROSETIESPACIODEARTE/'] ----  Tipo de columna: <class 'str'> \n",
      "\n",
      "Columna: TWITTER 2968 / 2968 ---- Ejemplo de valores: [nan, '@NaveAgora', '@ESTUDIATEATRO', '@MATEMURGA12', '@AtochaGaleria'] ----  Tipo de columna: <class 'float'> \n",
      "\n",
      "Columna: INSTAGRAM 2968 / 2968 ---- Ejemplo de valores: ['@8esquinasbar', nan, 'https://www.instagram.com/giermusicclub/', 'https://www.instagram.com/mutualsentimiento/', '@rubygaleria'] ----  Tipo de columna: <class 'str'> \n",
      "\n",
      "Columna: CAMARA_1 2968 / 2968 ---- Ejemplo de valores: [nan, 'CONABIP', 'ARTEI', 'CLUMVI', 'MECA'] ----  Tipo de columna: <class 'float'> \n",
      "\n",
      "Columna: CAMARA_2 2968 / 2968 ---- Ejemplo de valores: [nan, 'MECA', 'FIERAS', 'ESCENA', 'RED CULTURA BOEDO'] ----  Tipo de columna: <class 'float'> \n",
      "\n",
      "Columna: REDES 2968 / 2968 ---- Ejemplo de valores: [nan, 'RED QUINCHO', 'Red Nacional de Teatro Comunitario', 'Red cultura Boedo', 'RED CULTURA BOEDO'] ----  Tipo de columna: <class 'float'> \n",
      "\n",
      "Columna: PUNTO_DE_CULTURA 2968 / 2968 ---- Ejemplo de valores: [nan, 'SI', 'UNIRED/VITRUVIO/AMICUS'] ----  Tipo de columna: <class 'float'> \n",
      "\n",
      "Columna: OTRAS_REDES 2968 / 2968 ---- Ejemplo de valores: [nan, 'CLUMVI', 'ESCENA', 'NEP (Nuevo espacio de Participación) / Corriente 2021 ', 'NEP (Nuevo espacio de Participación)'] ----  Tipo de columna: <class 'float'> \n",
      "\n",
      "Columna: CANTIDAD_SALAS 2968 / 2968 ---- Ejemplo de valores: [nan, 1.0, 2.0, 3.0, 4.0] ----  Tipo de columna: <class 'numpy.float64'> \n",
      "\n",
      "Columna: CAPACIDAD_TOTAL 2968 / 2968 ---- Ejemplo de valores: [0.0, 265.0, 91.0, 180.0, 120.0] ----  Tipo de columna: <class 'numpy.float64'> \n",
      "\n",
      "Columna: TAG 2968 / 2968 ---- Ejemplo de valores: [nan, 'LITERATURA, CIENCIAS POLITICAS, LITERATURA INFANTIL Y JUVENIL, ENTRE OTRAS.', 'INFANTIL', 'ANIMALES, VETERINARIA', 'COMICS, HISTORIETAS'] ----  Tipo de columna: <class 'float'> \n",
      "\n"
     ]
    }
   ],
   "source": [
    "#Hagamos una función un poco más robusta para los datos.\n",
    "def analisis_columna (datos_piramide):\n",
    "\n",
    "  for columna in datos_piramide:\n",
    "    print(f'Columna: {columna} {datos_piramide[columna].shape[0]} / {datos_piramide.shape[0]} ---- Ejemplo de valores: {datos_piramide[columna].unique().tolist()[:5]} ----  Tipo de columna: {type(datos_piramide[columna][0])} \\n')\n",
    "\n",
    "analisis_columna(datos_piramide)"
   ]
  },
  {
   "cell_type": "code",
   "execution_count": null,
   "id": "8uZrbchO0ScT",
   "metadata": {
    "id": "8uZrbchO0ScT"
   },
   "outputs": [],
   "source": []
  },
  {
   "cell_type": "code",
   "execution_count": null,
   "id": "psxMj8z69cyy",
   "metadata": {
    "id": "psxMj8z69cyy"
   },
   "outputs": [],
   "source": []
  },
  {
   "cell_type": "code",
   "execution_count": null,
   "id": "SNv47kxs-A_h",
   "metadata": {
    "id": "SNv47kxs-A_h"
   },
   "outputs": [],
   "source": []
  },
  {
   "cell_type": "code",
   "execution_count": null,
   "id": "YOfb9Elp-QEA",
   "metadata": {
    "id": "YOfb9Elp-QEA"
   },
   "outputs": [],
   "source": []
  },
  {
   "cell_type": "code",
   "execution_count": null,
   "id": "xlYlE7aQ_jef",
   "metadata": {
    "id": "xlYlE7aQ_jef"
   },
   "outputs": [],
   "source": []
  },
  {
   "cell_type": "code",
   "execution_count": null,
   "id": "tRiwdJ8kZ1gR",
   "metadata": {
    "id": "tRiwdJ8kZ1gR"
   },
   "outputs": [],
   "source": []
  },
  {
   "cell_type": "code",
   "execution_count": null,
   "id": "nkFXFDXCZ1x9",
   "metadata": {
    "id": "nkFXFDXCZ1x9"
   },
   "outputs": [],
   "source": []
  },
  {
   "cell_type": "code",
   "execution_count": null,
   "id": "-ruuRwkceLbX",
   "metadata": {
    "id": "-ruuRwkceLbX"
   },
   "outputs": [],
   "source": []
  },
  {
   "cell_type": "code",
   "execution_count": null,
   "id": "x-7XVjY0licB",
   "metadata": {
    "id": "x-7XVjY0licB"
   },
   "outputs": [],
   "source": []
  },
  {
   "cell_type": "code",
   "execution_count": null,
   "id": "Jg1DxEjinzOY",
   "metadata": {
    "id": "Jg1DxEjinzOY"
   },
   "outputs": [],
   "source": []
  },
  {
   "cell_type": "code",
   "execution_count": null,
   "id": "7djO_ybXtXKZ",
   "metadata": {
    "id": "7djO_ybXtXKZ"
   },
   "outputs": [],
   "source": []
  },
  {
   "cell_type": "code",
   "execution_count": null,
   "id": "hNsa7dUBtjse",
   "metadata": {
    "id": "hNsa7dUBtjse"
   },
   "outputs": [],
   "source": []
  },
  {
   "cell_type": "code",
   "execution_count": null,
   "id": "Z0DiPxGutwzv",
   "metadata": {
    "id": "Z0DiPxGutwzv"
   },
   "outputs": [],
   "source": []
  },
  {
   "cell_type": "code",
   "execution_count": null,
   "id": "zhFArF-gt_mn",
   "metadata": {
    "id": "zhFArF-gt_mn"
   },
   "outputs": [],
   "source": []
  },
  {
   "cell_type": "code",
   "execution_count": null,
   "id": "Y4g3gIC0vuKF",
   "metadata": {
    "id": "Y4g3gIC0vuKF"
   },
   "outputs": [],
   "source": []
  },
  {
   "cell_type": "code",
   "execution_count": null,
   "id": "Yt7Y0vx9kwSU",
   "metadata": {
    "id": "Yt7Y0vx9kwSU"
   },
   "outputs": [],
   "source": []
  },
  {
   "cell_type": "code",
   "execution_count": null,
   "id": "SoCaHXlSqZEY",
   "metadata": {
    "id": "SoCaHXlSqZEY"
   },
   "outputs": [],
   "source": []
  },
  {
   "cell_type": "code",
   "execution_count": null,
   "id": "ZPU-LPTPvS6Z",
   "metadata": {
    "id": "ZPU-LPTPvS6Z"
   },
   "outputs": [],
   "source": [
    "\n"
   ]
  },
  {
   "cell_type": "code",
   "execution_count": null,
   "id": "Wcs2k5KfwvQA",
   "metadata": {
    "id": "Wcs2k5KfwvQA"
   },
   "outputs": [],
   "source": []
  },
  {
   "cell_type": "code",
   "execution_count": null,
   "id": "EFhnIAlGw952",
   "metadata": {
    "id": "EFhnIAlGw952"
   },
   "outputs": [],
   "source": []
  },
  {
   "cell_type": "code",
   "execution_count": null,
   "id": "xK38dnyKxoIQ",
   "metadata": {
    "id": "xK38dnyKxoIQ"
   },
   "outputs": [],
   "source": []
  },
  {
   "cell_type": "code",
   "execution_count": null,
   "id": "qMdmYaBKoktK",
   "metadata": {
    "id": "qMdmYaBKoktK"
   },
   "outputs": [],
   "source": []
  },
  {
   "cell_type": "code",
   "execution_count": null,
   "id": "4t-QjsdSyPXD",
   "metadata": {
    "id": "4t-QjsdSyPXD"
   },
   "outputs": [],
   "source": []
  },
  {
   "cell_type": "code",
   "execution_count": null,
   "id": "FoKZ_pMo1Px8",
   "metadata": {
    "id": "FoKZ_pMo1Px8"
   },
   "outputs": [],
   "source": []
  },
  {
   "cell_type": "code",
   "execution_count": null,
   "id": "jzYZNoP51vOG",
   "metadata": {
    "id": "jzYZNoP51vOG"
   },
   "outputs": [],
   "source": []
  },
  {
   "cell_type": "code",
   "execution_count": null,
   "id": "9harmFsT8U0Q",
   "metadata": {
    "id": "9harmFsT8U0Q"
   },
   "outputs": [],
   "source": []
  },
  {
   "cell_type": "code",
   "execution_count": null,
   "id": "V56KY3Ty6Dof",
   "metadata": {
    "id": "V56KY3Ty6Dof"
   },
   "outputs": [],
   "source": []
  },
  {
   "cell_type": "code",
   "execution_count": null,
   "id": "06_BpCm3yeky",
   "metadata": {
    "id": "06_BpCm3yeky"
   },
   "outputs": [],
   "source": []
  },
  {
   "cell_type": "code",
   "execution_count": null,
   "id": "AV6jkwrjzpNN",
   "metadata": {
    "id": "AV6jkwrjzpNN"
   },
   "outputs": [],
   "source": []
  },
  {
   "cell_type": "code",
   "execution_count": null,
   "id": "TVyPv3x5zs52",
   "metadata": {
    "id": "TVyPv3x5zs52"
   },
   "outputs": [],
   "source": []
  },
  {
   "cell_type": "code",
   "execution_count": null,
   "id": "Fh_RvbiH0GU9",
   "metadata": {
    "id": "Fh_RvbiH0GU9"
   },
   "outputs": [],
   "source": []
  },
  {
   "cell_type": "code",
   "execution_count": null,
   "id": "SWqM6CoMND4-",
   "metadata": {
    "id": "SWqM6CoMND4-"
   },
   "outputs": [],
   "source": []
  },
  {
   "cell_type": "code",
   "execution_count": null,
   "id": "si3pCqLrBhw4",
   "metadata": {
    "id": "si3pCqLrBhw4"
   },
   "outputs": [],
   "source": []
  },
  {
   "cell_type": "code",
   "execution_count": null,
   "id": "ViIiFo1hGx3m",
   "metadata": {
    "id": "ViIiFo1hGx3m"
   },
   "outputs": [],
   "source": []
  },
  {
   "cell_type": "code",
   "execution_count": null,
   "id": "GYLhjBJMHbfZ",
   "metadata": {
    "id": "GYLhjBJMHbfZ"
   },
   "outputs": [],
   "source": []
  },
  {
   "cell_type": "code",
   "execution_count": null,
   "id": "EdkXLm7wIYi5",
   "metadata": {
    "id": "EdkXLm7wIYi5"
   },
   "outputs": [],
   "source": []
  },
  {
   "cell_type": "code",
   "execution_count": null,
   "id": "h-SjboDlfn_k",
   "metadata": {
    "id": "h-SjboDlfn_k"
   },
   "outputs": [],
   "source": []
  },
  {
   "cell_type": "code",
   "execution_count": null,
   "id": "Lhe7LLqzJ5_5",
   "metadata": {
    "id": "Lhe7LLqzJ5_5"
   },
   "outputs": [],
   "source": []
  },
  {
   "cell_type": "code",
   "execution_count": null,
   "id": "oy8aGZgpjSln",
   "metadata": {
    "id": "oy8aGZgpjSln"
   },
   "outputs": [],
   "source": [
    " "
   ]
  },
  {
   "cell_type": "code",
   "execution_count": null,
   "id": "caotRqlJr5dR",
   "metadata": {
    "colab": {
     "base_uri": "https://localhost:8080/",
     "height": 506
    },
    "id": "caotRqlJr5dR",
    "outputId": "00764a0e-d9be-44a0-fdc6-8fe6d797dec9"
   },
   "outputs": [],
   "source": []
  },
  {
   "cell_type": "code",
   "execution_count": null,
   "id": "0ixjCYjmlYae",
   "metadata": {
    "id": "0ixjCYjmlYae"
   },
   "outputs": [],
   "source": []
  },
  {
   "cell_type": "code",
   "execution_count": null,
   "id": "_KHE99NzsZqg",
   "metadata": {
    "id": "_KHE99NzsZqg"
   },
   "outputs": [],
   "source": []
  },
  {
   "cell_type": "code",
   "execution_count": null,
   "id": "NKLuATXfmgyz",
   "metadata": {
    "id": "NKLuATXfmgyz"
   },
   "outputs": [],
   "source": []
  }
 ],
 "metadata": {
  "colab": {
   "provenance": [],
   "toc_visible": true
  },
  "kernelspec": {
   "display_name": "Python 3 (ipykernel)",
   "language": "python",
   "name": "python3"
  },
  "language_info": {
   "codemirror_mode": {
    "name": "ipython",
    "version": 3
   },
   "file_extension": ".py",
   "mimetype": "text/x-python",
   "name": "python",
   "nbconvert_exporter": "python",
   "pygments_lexer": "ipython3",
   "version": "3.9.12"
  },
  "vscode": {
   "interpreter": {
    "hash": "85a0054384181078ef1ebffca05d0750fa594e8348b9fc4af9c1de6bd54f83ec"
   }
  }
 },
 "nbformat": 4,
 "nbformat_minor": 5
}
